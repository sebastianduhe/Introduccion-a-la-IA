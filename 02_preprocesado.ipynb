{
  "cells": [
    {
      "cell_type": "markdown",
      "metadata": {
        "id": "view-in-github",
        "colab_type": "text"
      },
      "source": [
        "<a href=\"https://colab.research.google.com/github/sebastianduhe/Introduccion-a-la-IA/blob/main/02_preprocesado.ipynb\" target=\"_parent\"><img src=\"https://colab.research.google.com/assets/colab-badge.svg\" alt=\"Open In Colab\"/></a>"
      ]
    },
    {
      "cell_type": "markdown",
      "metadata": {
        "id": "qiY0Pgfo1r4k"
      },
      "source": [
        "# **SEGUNDA** **ENTREGA**\n"
      ]
    },
    {
      "cell_type": "markdown",
      "metadata": {
        "id": "4Potowh_0oOl"
      },
      "source": [
        "###**Librerias**:\n",
        "- Instalamos las librerias necesarias"
      ]
    },
    {
      "cell_type": "code",
      "execution_count": null,
      "metadata": {
        "collapsed": true,
        "id": "iPggwlfYyj1V",
        "colab": {
          "base_uri": "https://localhost:8080/",
          "height": 335
        },
        "outputId": "248c5447-7ae9-4c77-b6ee-cb4250087d87"
      },
      "outputs": [
        {
          "output_type": "stream",
          "name": "stdout",
          "text": [
            "Requirement already satisfied: kaggle in /usr/local/lib/python3.11/dist-packages (1.7.4.5)\n",
            "Requirement already satisfied: bleach in /usr/local/lib/python3.11/dist-packages (from kaggle) (6.2.0)\n",
            "Requirement already satisfied: certifi>=14.05.14 in /usr/local/lib/python3.11/dist-packages (from kaggle) (2025.4.26)\n",
            "Requirement already satisfied: charset-normalizer in /usr/local/lib/python3.11/dist-packages (from kaggle) (3.4.2)\n",
            "Requirement already satisfied: idna in /usr/local/lib/python3.11/dist-packages (from kaggle) (3.10)\n",
            "Requirement already satisfied: protobuf in /usr/local/lib/python3.11/dist-packages (from kaggle) (5.29.4)\n",
            "Requirement already satisfied: python-dateutil>=2.5.3 in /usr/local/lib/python3.11/dist-packages (from kaggle) (2.9.0.post0)\n",
            "Requirement already satisfied: python-slugify in /usr/local/lib/python3.11/dist-packages (from kaggle) (8.0.4)\n",
            "Requirement already satisfied: requests in /usr/local/lib/python3.11/dist-packages (from kaggle) (2.32.3)\n",
            "Requirement already satisfied: setuptools>=21.0.0 in /usr/local/lib/python3.11/dist-packages (from kaggle) (75.2.0)\n",
            "Requirement already satisfied: six>=1.10 in /usr/local/lib/python3.11/dist-packages (from kaggle) (1.17.0)\n",
            "Requirement already satisfied: text-unidecode in /usr/local/lib/python3.11/dist-packages (from kaggle) (1.3)\n",
            "Requirement already satisfied: tqdm in /usr/local/lib/python3.11/dist-packages (from kaggle) (4.67.1)\n",
            "Requirement already satisfied: urllib3>=1.15.1 in /usr/local/lib/python3.11/dist-packages (from kaggle) (2.4.0)\n",
            "Requirement already satisfied: webencodings in /usr/local/lib/python3.11/dist-packages (from kaggle) (0.5.1)\n"
          ]
        },
        {
          "output_type": "display_data",
          "data": {
            "text/plain": [
              "<IPython.core.display.HTML object>"
            ],
            "text/html": [
              "\n",
              "<meta name=\"google-signin-client_id\"\n",
              "      content=\"461673936472-kdjosv61up3ac1ajeuq6qqu72upilmls.apps.googleusercontent.com\"/>\n",
              "<script src=\"https://apis.google.com/js/client:platform.js?onload=google_button_start\"></script>\n",
              "    "
            ]
          },
          "metadata": {}
        },
        {
          "output_type": "stream",
          "name": "stdout",
          "text": [
            "replicating local resources\n"
          ]
        },
        {
          "output_type": "execute_result",
          "data": {
            "text/plain": [
              "<IPython.core.display.HTML object>"
            ],
            "text/html": [
              "<h3>See <a href='https://m5knaekxo6.execute-api.us-west-2.amazonaws.com/dev-v0001/rlxmooc/web/login' target='_blank'>my courses and progress</a></h2>"
            ]
          },
          "metadata": {},
          "execution_count": 1
        }
      ],
      "source": [
        "!pip install kaggle\n",
        "\n",
        "import pandas as pd\n",
        "import seaborn as sns\n",
        "import numpy as np\n",
        "import matplotlib.pyplot as plt\n",
        "import os\n",
        "import json\n",
        "\n",
        "!wget --no-cache -O init.py -q https://raw.githubusercontent.com/rramosp/ai4eng.v1/main/content/init.py\n",
        "import init; init.init(force_download=False); init.get_weblink()"
      ]
    },
    {
      "cell_type": "markdown",
      "metadata": {
        "id": "W9Xix-Mw2PE6"
      },
      "source": [
        "### **Datos**:\n",
        "- Cargamos los datos de la competencia directamente desde Kaggle"
      ]
    },
    {
      "cell_type": "code",
      "execution_count": null,
      "metadata": {
        "colab": {
          "base_uri": "https://localhost:8080/"
        },
        "collapsed": true,
        "id": "NzCsfRcj09Xc",
        "outputId": "d76b5e74-d1bf-4505-d598-926e0e50edbb"
      },
      "outputs": [
        {
          "output_type": "stream",
          "name": "stdout",
          "text": [
            "Warning: Your Kaggle API key is readable by other users on this system! To fix this, you can run 'chmod 600 /content/kaggle.json'\n",
            "Downloading udea-ai-4-eng-20251-pruebas-saber-pro-colombia.zip to /content\n",
            "  0% 0.00/29.9M [00:00<?, ?B/s]\n",
            "100% 29.9M/29.9M [00:00<00:00, 793MB/s]\n"
          ]
        }
      ],
      "source": [
        "os.environ['KAGGLE_CONFIG_DIR']='/content/'\n",
        "\n",
        "data = {\"username\":\"baelfire\",\"key\":\"b860190c7605c03bb89762805f39fb7f\"}\n",
        "with open('kaggle.json','w') as file:\n",
        "  json.dump(data, file, indent=4)\n",
        "\n",
        "## Descargamos base de datos\n",
        "\n",
        "!kaggle competitions download -c udea-ai-4-eng-20251-pruebas-saber-pro-colombia"
      ]
    },
    {
      "cell_type": "code",
      "source": [
        "## Descomprimimos\n",
        "\n",
        "!unzip \\*.zip && rm *.zip\n",
        "!wc *.csv"
      ],
      "metadata": {
        "colab": {
          "base_uri": "https://localhost:8080/"
        },
        "id": "WlvzT2wlw4YQ",
        "outputId": "af8b6d21-6e74-4900-ab6c-5d4fa7283668"
      },
      "execution_count": null,
      "outputs": [
        {
          "output_type": "stream",
          "name": "stdout",
          "text": [
            "Archive:  udea-ai-4-eng-20251-pruebas-saber-pro-colombia.zip\n",
            "  inflating: submission_example.csv  \n",
            "  inflating: test.csv                \n",
            "  inflating: train.csv               \n",
            "   296787    296787   4716673 submission_example.csv\n",
            "   296787   4565553  59185250 test.csv\n",
            "   692501  10666231 143732449 train.csv\n",
            "  1286075  15528571 207634372 total\n"
          ]
        }
      ]
    },
    {
      "cell_type": "code",
      "source": [
        "## Leer la base de datos\n",
        "\n",
        "bd = pd.read_csv(\"train.csv\")\n",
        "print (\"shape of loaded dataframe\", bd.shape)"
      ],
      "metadata": {
        "colab": {
          "base_uri": "https://localhost:8080/"
        },
        "id": "3z_aP-Ikw4Hf",
        "outputId": "27ef77f4-6b98-437f-cd3a-0a622aaba5e3"
      },
      "execution_count": null,
      "outputs": [
        {
          "output_type": "stream",
          "name": "stdout",
          "text": [
            "shape of loaded dataframe (692500, 21)\n"
          ]
        }
      ]
    },
    {
      "cell_type": "markdown",
      "metadata": {
        "id": "jehrfTJA3EVb"
      },
      "source": [
        "### **Información de los datos**\n",
        "\n",
        "- Vamos a mostrar diferentes observaciones de la base de datos"
      ]
    },
    {
      "cell_type": "code",
      "execution_count": null,
      "metadata": {
        "collapsed": true,
        "id": "LJTwW8Lj2mgL",
        "colab": {
          "base_uri": "https://localhost:8080/",
          "height": 342
        },
        "outputId": "e872c27f-211f-4692-e575-37d48ac4100c"
      },
      "outputs": [
        {
          "output_type": "execute_result",
          "data": {
            "text/plain": [
              "       ID  PERIODO         ESTU_PRGM_ACADEMICO ESTU_PRGM_DEPARTAMENTO  \\\n",
              "0  904256    20212                  ENFERMERIA                 BOGOTÁ   \n",
              "1  645256    20212                     DERECHO              ATLANTICO   \n",
              "2  308367    20203       MERCADEO Y PUBLICIDAD                 BOGOTÁ   \n",
              "3  470353    20195  ADMINISTRACION DE EMPRESAS              SANTANDER   \n",
              "4  989032    20212                  PSICOLOGIA              ANTIOQUIA   \n",
              "\n",
              "             ESTU_VALORMATRICULAUNIVERSIDAD ESTU_HORASSEMANATRABAJA  \\\n",
              "0  Entre 5.5 millones y menos de 7 millones       Menos de 10 horas   \n",
              "1  Entre 2.5 millones y menos de 4 millones                       0   \n",
              "2  Entre 2.5 millones y menos de 4 millones         Más de 30 horas   \n",
              "3  Entre 4 millones y menos de 5.5 millones                       0   \n",
              "4  Entre 2.5 millones y menos de 4 millones     Entre 21 y 30 horas   \n",
              "\n",
              "  FAMI_ESTRATOVIVIENDA FAMI_TIENEINTERNET                 FAMI_EDUCACIONPADRE  \\\n",
              "0            Estrato 3                 Si    Técnica o tecnológica incompleta   \n",
              "1            Estrato 3                 No      Técnica o tecnológica completa   \n",
              "2            Estrato 3                 Si  Secundaria (Bachillerato) completa   \n",
              "3            Estrato 4                 Si                             No sabe   \n",
              "4            Estrato 3                 Si                   Primaria completa   \n",
              "\n",
              "  FAMI_TIENELAVADORA  ... ESTU_PRIVADO_LIBERTAD ESTU_PAGOMATRICULAPROPIO  \\\n",
              "0                 Si  ...                     N                       No   \n",
              "1                 Si  ...                     N                       No   \n",
              "2                 Si  ...                     N                       No   \n",
              "3                 Si  ...                     N                       No   \n",
              "4                 Si  ...                     N                       No   \n",
              "\n",
              "  FAMI_TIENECOMPUTADOR FAMI_TIENEINTERNET.1  \\\n",
              "0                   Si                   Si   \n",
              "1                   Si                   No   \n",
              "2                   No                   Si   \n",
              "3                   Si                   Si   \n",
              "4                   Si                   Si   \n",
              "\n",
              "                  FAMI_EDUCACIONMADRE RENDIMIENTO_GLOBAL coef_1  coef_2  \\\n",
              "0                           Postgrado         medio-alto  0.322   0.208   \n",
              "1    Técnica o tecnológica incompleta               bajo  0.311   0.215   \n",
              "2  Secundaria (Bachillerato) completa               bajo  0.297   0.214   \n",
              "3  Secundaria (Bachillerato) completa               alto  0.485   0.172   \n",
              "4                   Primaria completa         medio-bajo  0.316   0.232   \n",
              "\n",
              "   coef_3  coef_4  \n",
              "0   0.310   0.267  \n",
              "1   0.292   0.264  \n",
              "2   0.305   0.264  \n",
              "3   0.252   0.190  \n",
              "4   0.285   0.294  \n",
              "\n",
              "[5 rows x 21 columns]"
            ],
            "text/html": [
              "\n",
              "  <div id=\"df-e21fd830-3dc7-438a-a117-905960149b05\" class=\"colab-df-container\">\n",
              "    <div>\n",
              "<style scoped>\n",
              "    .dataframe tbody tr th:only-of-type {\n",
              "        vertical-align: middle;\n",
              "    }\n",
              "\n",
              "    .dataframe tbody tr th {\n",
              "        vertical-align: top;\n",
              "    }\n",
              "\n",
              "    .dataframe thead th {\n",
              "        text-align: right;\n",
              "    }\n",
              "</style>\n",
              "<table border=\"1\" class=\"dataframe\">\n",
              "  <thead>\n",
              "    <tr style=\"text-align: right;\">\n",
              "      <th></th>\n",
              "      <th>ID</th>\n",
              "      <th>PERIODO</th>\n",
              "      <th>ESTU_PRGM_ACADEMICO</th>\n",
              "      <th>ESTU_PRGM_DEPARTAMENTO</th>\n",
              "      <th>ESTU_VALORMATRICULAUNIVERSIDAD</th>\n",
              "      <th>ESTU_HORASSEMANATRABAJA</th>\n",
              "      <th>FAMI_ESTRATOVIVIENDA</th>\n",
              "      <th>FAMI_TIENEINTERNET</th>\n",
              "      <th>FAMI_EDUCACIONPADRE</th>\n",
              "      <th>FAMI_TIENELAVADORA</th>\n",
              "      <th>...</th>\n",
              "      <th>ESTU_PRIVADO_LIBERTAD</th>\n",
              "      <th>ESTU_PAGOMATRICULAPROPIO</th>\n",
              "      <th>FAMI_TIENECOMPUTADOR</th>\n",
              "      <th>FAMI_TIENEINTERNET.1</th>\n",
              "      <th>FAMI_EDUCACIONMADRE</th>\n",
              "      <th>RENDIMIENTO_GLOBAL</th>\n",
              "      <th>coef_1</th>\n",
              "      <th>coef_2</th>\n",
              "      <th>coef_3</th>\n",
              "      <th>coef_4</th>\n",
              "    </tr>\n",
              "  </thead>\n",
              "  <tbody>\n",
              "    <tr>\n",
              "      <th>0</th>\n",
              "      <td>904256</td>\n",
              "      <td>20212</td>\n",
              "      <td>ENFERMERIA</td>\n",
              "      <td>BOGOTÁ</td>\n",
              "      <td>Entre 5.5 millones y menos de 7 millones</td>\n",
              "      <td>Menos de 10 horas</td>\n",
              "      <td>Estrato 3</td>\n",
              "      <td>Si</td>\n",
              "      <td>Técnica o tecnológica incompleta</td>\n",
              "      <td>Si</td>\n",
              "      <td>...</td>\n",
              "      <td>N</td>\n",
              "      <td>No</td>\n",
              "      <td>Si</td>\n",
              "      <td>Si</td>\n",
              "      <td>Postgrado</td>\n",
              "      <td>medio-alto</td>\n",
              "      <td>0.322</td>\n",
              "      <td>0.208</td>\n",
              "      <td>0.310</td>\n",
              "      <td>0.267</td>\n",
              "    </tr>\n",
              "    <tr>\n",
              "      <th>1</th>\n",
              "      <td>645256</td>\n",
              "      <td>20212</td>\n",
              "      <td>DERECHO</td>\n",
              "      <td>ATLANTICO</td>\n",
              "      <td>Entre 2.5 millones y menos de 4 millones</td>\n",
              "      <td>0</td>\n",
              "      <td>Estrato 3</td>\n",
              "      <td>No</td>\n",
              "      <td>Técnica o tecnológica completa</td>\n",
              "      <td>Si</td>\n",
              "      <td>...</td>\n",
              "      <td>N</td>\n",
              "      <td>No</td>\n",
              "      <td>Si</td>\n",
              "      <td>No</td>\n",
              "      <td>Técnica o tecnológica incompleta</td>\n",
              "      <td>bajo</td>\n",
              "      <td>0.311</td>\n",
              "      <td>0.215</td>\n",
              "      <td>0.292</td>\n",
              "      <td>0.264</td>\n",
              "    </tr>\n",
              "    <tr>\n",
              "      <th>2</th>\n",
              "      <td>308367</td>\n",
              "      <td>20203</td>\n",
              "      <td>MERCADEO Y PUBLICIDAD</td>\n",
              "      <td>BOGOTÁ</td>\n",
              "      <td>Entre 2.5 millones y menos de 4 millones</td>\n",
              "      <td>Más de 30 horas</td>\n",
              "      <td>Estrato 3</td>\n",
              "      <td>Si</td>\n",
              "      <td>Secundaria (Bachillerato) completa</td>\n",
              "      <td>Si</td>\n",
              "      <td>...</td>\n",
              "      <td>N</td>\n",
              "      <td>No</td>\n",
              "      <td>No</td>\n",
              "      <td>Si</td>\n",
              "      <td>Secundaria (Bachillerato) completa</td>\n",
              "      <td>bajo</td>\n",
              "      <td>0.297</td>\n",
              "      <td>0.214</td>\n",
              "      <td>0.305</td>\n",
              "      <td>0.264</td>\n",
              "    </tr>\n",
              "    <tr>\n",
              "      <th>3</th>\n",
              "      <td>470353</td>\n",
              "      <td>20195</td>\n",
              "      <td>ADMINISTRACION DE EMPRESAS</td>\n",
              "      <td>SANTANDER</td>\n",
              "      <td>Entre 4 millones y menos de 5.5 millones</td>\n",
              "      <td>0</td>\n",
              "      <td>Estrato 4</td>\n",
              "      <td>Si</td>\n",
              "      <td>No sabe</td>\n",
              "      <td>Si</td>\n",
              "      <td>...</td>\n",
              "      <td>N</td>\n",
              "      <td>No</td>\n",
              "      <td>Si</td>\n",
              "      <td>Si</td>\n",
              "      <td>Secundaria (Bachillerato) completa</td>\n",
              "      <td>alto</td>\n",
              "      <td>0.485</td>\n",
              "      <td>0.172</td>\n",
              "      <td>0.252</td>\n",
              "      <td>0.190</td>\n",
              "    </tr>\n",
              "    <tr>\n",
              "      <th>4</th>\n",
              "      <td>989032</td>\n",
              "      <td>20212</td>\n",
              "      <td>PSICOLOGIA</td>\n",
              "      <td>ANTIOQUIA</td>\n",
              "      <td>Entre 2.5 millones y menos de 4 millones</td>\n",
              "      <td>Entre 21 y 30 horas</td>\n",
              "      <td>Estrato 3</td>\n",
              "      <td>Si</td>\n",
              "      <td>Primaria completa</td>\n",
              "      <td>Si</td>\n",
              "      <td>...</td>\n",
              "      <td>N</td>\n",
              "      <td>No</td>\n",
              "      <td>Si</td>\n",
              "      <td>Si</td>\n",
              "      <td>Primaria completa</td>\n",
              "      <td>medio-bajo</td>\n",
              "      <td>0.316</td>\n",
              "      <td>0.232</td>\n",
              "      <td>0.285</td>\n",
              "      <td>0.294</td>\n",
              "    </tr>\n",
              "  </tbody>\n",
              "</table>\n",
              "<p>5 rows × 21 columns</p>\n",
              "</div>\n",
              "    <div class=\"colab-df-buttons\">\n",
              "\n",
              "  <div class=\"colab-df-container\">\n",
              "    <button class=\"colab-df-convert\" onclick=\"convertToInteractive('df-e21fd830-3dc7-438a-a117-905960149b05')\"\n",
              "            title=\"Convert this dataframe to an interactive table.\"\n",
              "            style=\"display:none;\">\n",
              "\n",
              "  <svg xmlns=\"http://www.w3.org/2000/svg\" height=\"24px\" viewBox=\"0 -960 960 960\">\n",
              "    <path d=\"M120-120v-720h720v720H120Zm60-500h600v-160H180v160Zm220 220h160v-160H400v160Zm0 220h160v-160H400v160ZM180-400h160v-160H180v160Zm440 0h160v-160H620v160ZM180-180h160v-160H180v160Zm440 0h160v-160H620v160Z\"/>\n",
              "  </svg>\n",
              "    </button>\n",
              "\n",
              "  <style>\n",
              "    .colab-df-container {\n",
              "      display:flex;\n",
              "      gap: 12px;\n",
              "    }\n",
              "\n",
              "    .colab-df-convert {\n",
              "      background-color: #E8F0FE;\n",
              "      border: none;\n",
              "      border-radius: 50%;\n",
              "      cursor: pointer;\n",
              "      display: none;\n",
              "      fill: #1967D2;\n",
              "      height: 32px;\n",
              "      padding: 0 0 0 0;\n",
              "      width: 32px;\n",
              "    }\n",
              "\n",
              "    .colab-df-convert:hover {\n",
              "      background-color: #E2EBFA;\n",
              "      box-shadow: 0px 1px 2px rgba(60, 64, 67, 0.3), 0px 1px 3px 1px rgba(60, 64, 67, 0.15);\n",
              "      fill: #174EA6;\n",
              "    }\n",
              "\n",
              "    .colab-df-buttons div {\n",
              "      margin-bottom: 4px;\n",
              "    }\n",
              "\n",
              "    [theme=dark] .colab-df-convert {\n",
              "      background-color: #3B4455;\n",
              "      fill: #D2E3FC;\n",
              "    }\n",
              "\n",
              "    [theme=dark] .colab-df-convert:hover {\n",
              "      background-color: #434B5C;\n",
              "      box-shadow: 0px 1px 3px 1px rgba(0, 0, 0, 0.15);\n",
              "      filter: drop-shadow(0px 1px 2px rgba(0, 0, 0, 0.3));\n",
              "      fill: #FFFFFF;\n",
              "    }\n",
              "  </style>\n",
              "\n",
              "    <script>\n",
              "      const buttonEl =\n",
              "        document.querySelector('#df-e21fd830-3dc7-438a-a117-905960149b05 button.colab-df-convert');\n",
              "      buttonEl.style.display =\n",
              "        google.colab.kernel.accessAllowed ? 'block' : 'none';\n",
              "\n",
              "      async function convertToInteractive(key) {\n",
              "        const element = document.querySelector('#df-e21fd830-3dc7-438a-a117-905960149b05');\n",
              "        const dataTable =\n",
              "          await google.colab.kernel.invokeFunction('convertToInteractive',\n",
              "                                                    [key], {});\n",
              "        if (!dataTable) return;\n",
              "\n",
              "        const docLinkHtml = 'Like what you see? Visit the ' +\n",
              "          '<a target=\"_blank\" href=https://colab.research.google.com/notebooks/data_table.ipynb>data table notebook</a>'\n",
              "          + ' to learn more about interactive tables.';\n",
              "        element.innerHTML = '';\n",
              "        dataTable['output_type'] = 'display_data';\n",
              "        await google.colab.output.renderOutput(dataTable, element);\n",
              "        const docLink = document.createElement('div');\n",
              "        docLink.innerHTML = docLinkHtml;\n",
              "        element.appendChild(docLink);\n",
              "      }\n",
              "    </script>\n",
              "  </div>\n",
              "\n",
              "\n",
              "    <div id=\"df-367bae30-d52a-42f5-936d-0045d5461834\">\n",
              "      <button class=\"colab-df-quickchart\" onclick=\"quickchart('df-367bae30-d52a-42f5-936d-0045d5461834')\"\n",
              "                title=\"Suggest charts\"\n",
              "                style=\"display:none;\">\n",
              "\n",
              "<svg xmlns=\"http://www.w3.org/2000/svg\" height=\"24px\"viewBox=\"0 0 24 24\"\n",
              "     width=\"24px\">\n",
              "    <g>\n",
              "        <path d=\"M19 3H5c-1.1 0-2 .9-2 2v14c0 1.1.9 2 2 2h14c1.1 0 2-.9 2-2V5c0-1.1-.9-2-2-2zM9 17H7v-7h2v7zm4 0h-2V7h2v10zm4 0h-2v-4h2v4z\"/>\n",
              "    </g>\n",
              "</svg>\n",
              "      </button>\n",
              "\n",
              "<style>\n",
              "  .colab-df-quickchart {\n",
              "      --bg-color: #E8F0FE;\n",
              "      --fill-color: #1967D2;\n",
              "      --hover-bg-color: #E2EBFA;\n",
              "      --hover-fill-color: #174EA6;\n",
              "      --disabled-fill-color: #AAA;\n",
              "      --disabled-bg-color: #DDD;\n",
              "  }\n",
              "\n",
              "  [theme=dark] .colab-df-quickchart {\n",
              "      --bg-color: #3B4455;\n",
              "      --fill-color: #D2E3FC;\n",
              "      --hover-bg-color: #434B5C;\n",
              "      --hover-fill-color: #FFFFFF;\n",
              "      --disabled-bg-color: #3B4455;\n",
              "      --disabled-fill-color: #666;\n",
              "  }\n",
              "\n",
              "  .colab-df-quickchart {\n",
              "    background-color: var(--bg-color);\n",
              "    border: none;\n",
              "    border-radius: 50%;\n",
              "    cursor: pointer;\n",
              "    display: none;\n",
              "    fill: var(--fill-color);\n",
              "    height: 32px;\n",
              "    padding: 0;\n",
              "    width: 32px;\n",
              "  }\n",
              "\n",
              "  .colab-df-quickchart:hover {\n",
              "    background-color: var(--hover-bg-color);\n",
              "    box-shadow: 0 1px 2px rgba(60, 64, 67, 0.3), 0 1px 3px 1px rgba(60, 64, 67, 0.15);\n",
              "    fill: var(--button-hover-fill-color);\n",
              "  }\n",
              "\n",
              "  .colab-df-quickchart-complete:disabled,\n",
              "  .colab-df-quickchart-complete:disabled:hover {\n",
              "    background-color: var(--disabled-bg-color);\n",
              "    fill: var(--disabled-fill-color);\n",
              "    box-shadow: none;\n",
              "  }\n",
              "\n",
              "  .colab-df-spinner {\n",
              "    border: 2px solid var(--fill-color);\n",
              "    border-color: transparent;\n",
              "    border-bottom-color: var(--fill-color);\n",
              "    animation:\n",
              "      spin 1s steps(1) infinite;\n",
              "  }\n",
              "\n",
              "  @keyframes spin {\n",
              "    0% {\n",
              "      border-color: transparent;\n",
              "      border-bottom-color: var(--fill-color);\n",
              "      border-left-color: var(--fill-color);\n",
              "    }\n",
              "    20% {\n",
              "      border-color: transparent;\n",
              "      border-left-color: var(--fill-color);\n",
              "      border-top-color: var(--fill-color);\n",
              "    }\n",
              "    30% {\n",
              "      border-color: transparent;\n",
              "      border-left-color: var(--fill-color);\n",
              "      border-top-color: var(--fill-color);\n",
              "      border-right-color: var(--fill-color);\n",
              "    }\n",
              "    40% {\n",
              "      border-color: transparent;\n",
              "      border-right-color: var(--fill-color);\n",
              "      border-top-color: var(--fill-color);\n",
              "    }\n",
              "    60% {\n",
              "      border-color: transparent;\n",
              "      border-right-color: var(--fill-color);\n",
              "    }\n",
              "    80% {\n",
              "      border-color: transparent;\n",
              "      border-right-color: var(--fill-color);\n",
              "      border-bottom-color: var(--fill-color);\n",
              "    }\n",
              "    90% {\n",
              "      border-color: transparent;\n",
              "      border-bottom-color: var(--fill-color);\n",
              "    }\n",
              "  }\n",
              "</style>\n",
              "\n",
              "      <script>\n",
              "        async function quickchart(key) {\n",
              "          const quickchartButtonEl =\n",
              "            document.querySelector('#' + key + ' button');\n",
              "          quickchartButtonEl.disabled = true;  // To prevent multiple clicks.\n",
              "          quickchartButtonEl.classList.add('colab-df-spinner');\n",
              "          try {\n",
              "            const charts = await google.colab.kernel.invokeFunction(\n",
              "                'suggestCharts', [key], {});\n",
              "          } catch (error) {\n",
              "            console.error('Error during call to suggestCharts:', error);\n",
              "          }\n",
              "          quickchartButtonEl.classList.remove('colab-df-spinner');\n",
              "          quickchartButtonEl.classList.add('colab-df-quickchart-complete');\n",
              "        }\n",
              "        (() => {\n",
              "          let quickchartButtonEl =\n",
              "            document.querySelector('#df-367bae30-d52a-42f5-936d-0045d5461834 button');\n",
              "          quickchartButtonEl.style.display =\n",
              "            google.colab.kernel.accessAllowed ? 'block' : 'none';\n",
              "        })();\n",
              "      </script>\n",
              "    </div>\n",
              "\n",
              "    </div>\n",
              "  </div>\n"
            ],
            "application/vnd.google.colaboratory.intrinsic+json": {
              "type": "dataframe",
              "variable_name": "bd"
            }
          },
          "metadata": {},
          "execution_count": 5
        }
      ],
      "source": [
        "## Datos\n",
        "bd.head()"
      ]
    },
    {
      "cell_type": "code",
      "execution_count": null,
      "metadata": {
        "id": "0PsTniqwDYqn",
        "colab": {
          "base_uri": "https://localhost:8080/"
        },
        "outputId": "6aaac039-ffb0-4613-e367-1edd96d66b63"
      },
      "outputs": [
        {
          "output_type": "execute_result",
          "data": {
            "text/plain": [
              "(692500, 21)"
            ]
          },
          "metadata": {},
          "execution_count": 6
        }
      ],
      "source": [
        "## Cantidad de filas y columnas\n",
        "bd.shape"
      ]
    },
    {
      "cell_type": "code",
      "execution_count": null,
      "metadata": {
        "id": "U_C3fXQGDjBO",
        "colab": {
          "base_uri": "https://localhost:8080/"
        },
        "collapsed": true,
        "outputId": "4951ad5d-904c-4174-f27d-2a75e27941ab"
      },
      "outputs": [
        {
          "output_type": "stream",
          "name": "stdout",
          "text": [
            "<class 'pandas.core.frame.DataFrame'>\n",
            "RangeIndex: 692500 entries, 0 to 692499\n",
            "Data columns (total 21 columns):\n",
            " #   Column                          Non-Null Count   Dtype  \n",
            "---  ------                          --------------   -----  \n",
            " 0   ID                              692500 non-null  int64  \n",
            " 1   PERIODO                         692500 non-null  int64  \n",
            " 2   ESTU_PRGM_ACADEMICO             692500 non-null  object \n",
            " 3   ESTU_PRGM_DEPARTAMENTO          692500 non-null  object \n",
            " 4   ESTU_VALORMATRICULAUNIVERSIDAD  686213 non-null  object \n",
            " 5   ESTU_HORASSEMANATRABAJA         661643 non-null  object \n",
            " 6   FAMI_ESTRATOVIVIENDA            660363 non-null  object \n",
            " 7   FAMI_TIENEINTERNET              665871 non-null  object \n",
            " 8   FAMI_EDUCACIONPADRE             669322 non-null  object \n",
            " 9   FAMI_TIENELAVADORA              652727 non-null  object \n",
            " 10  FAMI_TIENEAUTOMOVIL             648877 non-null  object \n",
            " 11  ESTU_PRIVADO_LIBERTAD           692500 non-null  object \n",
            " 12  ESTU_PAGOMATRICULAPROPIO        686002 non-null  object \n",
            " 13  FAMI_TIENECOMPUTADOR            654397 non-null  object \n",
            " 14  FAMI_TIENEINTERNET.1            665871 non-null  object \n",
            " 15  FAMI_EDUCACIONMADRE             668836 non-null  object \n",
            " 16  RENDIMIENTO_GLOBAL              692500 non-null  object \n",
            " 17  coef_1                          692500 non-null  float64\n",
            " 18  coef_2                          692500 non-null  float64\n",
            " 19  coef_3                          692500 non-null  float64\n",
            " 20  coef_4                          692500 non-null  float64\n",
            "dtypes: float64(4), int64(2), object(15)\n",
            "memory usage: 111.0+ MB\n"
          ]
        }
      ],
      "source": [
        "## Tipos de datos, información de estos\n",
        "bd.info()"
      ]
    },
    {
      "cell_type": "code",
      "source": [
        "## Datos faltantes de cada columna\n",
        "bd.isna().sum()"
      ],
      "metadata": {
        "colab": {
          "base_uri": "https://localhost:8080/",
          "height": 743
        },
        "collapsed": true,
        "id": "EvpqK69ERL2X",
        "outputId": "d762a4ef-fc1f-4a1e-dd4b-868f99848cf2"
      },
      "execution_count": null,
      "outputs": [
        {
          "output_type": "execute_result",
          "data": {
            "text/plain": [
              "ID                                    0\n",
              "PERIODO                               0\n",
              "ESTU_PRGM_ACADEMICO                   0\n",
              "ESTU_PRGM_DEPARTAMENTO                0\n",
              "ESTU_VALORMATRICULAUNIVERSIDAD     6287\n",
              "ESTU_HORASSEMANATRABAJA           30857\n",
              "FAMI_ESTRATOVIVIENDA              32137\n",
              "FAMI_TIENEINTERNET                26629\n",
              "FAMI_EDUCACIONPADRE               23178\n",
              "FAMI_TIENELAVADORA                39773\n",
              "FAMI_TIENEAUTOMOVIL               43623\n",
              "ESTU_PRIVADO_LIBERTAD                 0\n",
              "ESTU_PAGOMATRICULAPROPIO           6498\n",
              "FAMI_TIENECOMPUTADOR              38103\n",
              "FAMI_TIENEINTERNET.1              26629\n",
              "FAMI_EDUCACIONMADRE               23664\n",
              "RENDIMIENTO_GLOBAL                    0\n",
              "coef_1                                0\n",
              "coef_2                                0\n",
              "coef_3                                0\n",
              "coef_4                                0\n",
              "dtype: int64"
            ],
            "text/html": [
              "<div>\n",
              "<style scoped>\n",
              "    .dataframe tbody tr th:only-of-type {\n",
              "        vertical-align: middle;\n",
              "    }\n",
              "\n",
              "    .dataframe tbody tr th {\n",
              "        vertical-align: top;\n",
              "    }\n",
              "\n",
              "    .dataframe thead th {\n",
              "        text-align: right;\n",
              "    }\n",
              "</style>\n",
              "<table border=\"1\" class=\"dataframe\">\n",
              "  <thead>\n",
              "    <tr style=\"text-align: right;\">\n",
              "      <th></th>\n",
              "      <th>0</th>\n",
              "    </tr>\n",
              "  </thead>\n",
              "  <tbody>\n",
              "    <tr>\n",
              "      <th>ID</th>\n",
              "      <td>0</td>\n",
              "    </tr>\n",
              "    <tr>\n",
              "      <th>PERIODO</th>\n",
              "      <td>0</td>\n",
              "    </tr>\n",
              "    <tr>\n",
              "      <th>ESTU_PRGM_ACADEMICO</th>\n",
              "      <td>0</td>\n",
              "    </tr>\n",
              "    <tr>\n",
              "      <th>ESTU_PRGM_DEPARTAMENTO</th>\n",
              "      <td>0</td>\n",
              "    </tr>\n",
              "    <tr>\n",
              "      <th>ESTU_VALORMATRICULAUNIVERSIDAD</th>\n",
              "      <td>6287</td>\n",
              "    </tr>\n",
              "    <tr>\n",
              "      <th>ESTU_HORASSEMANATRABAJA</th>\n",
              "      <td>30857</td>\n",
              "    </tr>\n",
              "    <tr>\n",
              "      <th>FAMI_ESTRATOVIVIENDA</th>\n",
              "      <td>32137</td>\n",
              "    </tr>\n",
              "    <tr>\n",
              "      <th>FAMI_TIENEINTERNET</th>\n",
              "      <td>26629</td>\n",
              "    </tr>\n",
              "    <tr>\n",
              "      <th>FAMI_EDUCACIONPADRE</th>\n",
              "      <td>23178</td>\n",
              "    </tr>\n",
              "    <tr>\n",
              "      <th>FAMI_TIENELAVADORA</th>\n",
              "      <td>39773</td>\n",
              "    </tr>\n",
              "    <tr>\n",
              "      <th>FAMI_TIENEAUTOMOVIL</th>\n",
              "      <td>43623</td>\n",
              "    </tr>\n",
              "    <tr>\n",
              "      <th>ESTU_PRIVADO_LIBERTAD</th>\n",
              "      <td>0</td>\n",
              "    </tr>\n",
              "    <tr>\n",
              "      <th>ESTU_PAGOMATRICULAPROPIO</th>\n",
              "      <td>6498</td>\n",
              "    </tr>\n",
              "    <tr>\n",
              "      <th>FAMI_TIENECOMPUTADOR</th>\n",
              "      <td>38103</td>\n",
              "    </tr>\n",
              "    <tr>\n",
              "      <th>FAMI_TIENEINTERNET.1</th>\n",
              "      <td>26629</td>\n",
              "    </tr>\n",
              "    <tr>\n",
              "      <th>FAMI_EDUCACIONMADRE</th>\n",
              "      <td>23664</td>\n",
              "    </tr>\n",
              "    <tr>\n",
              "      <th>RENDIMIENTO_GLOBAL</th>\n",
              "      <td>0</td>\n",
              "    </tr>\n",
              "    <tr>\n",
              "      <th>coef_1</th>\n",
              "      <td>0</td>\n",
              "    </tr>\n",
              "    <tr>\n",
              "      <th>coef_2</th>\n",
              "      <td>0</td>\n",
              "    </tr>\n",
              "    <tr>\n",
              "      <th>coef_3</th>\n",
              "      <td>0</td>\n",
              "    </tr>\n",
              "    <tr>\n",
              "      <th>coef_4</th>\n",
              "      <td>0</td>\n",
              "    </tr>\n",
              "  </tbody>\n",
              "</table>\n",
              "</div><br><label><b>dtype:</b> int64</label>"
            ]
          },
          "metadata": {},
          "execution_count": 8
        }
      ]
    },
    {
      "cell_type": "markdown",
      "source": [
        "## **Vamos a buscar las variables categóricas y variables númericas de la base de datos.**"
      ],
      "metadata": {
        "id": "Dm1oCXl7msyB"
      }
    },
    {
      "cell_type": "code",
      "source": [
        "## Acá se muestran todas las variables categóricas que contiene la base de datos\n",
        "\n",
        "vcat = bd.select_dtypes(include=['object', 'category']).columns.tolist()\n",
        "print(\"Variables categóricas:\", vcat)"
      ],
      "metadata": {
        "colab": {
          "base_uri": "https://localhost:8080/"
        },
        "collapsed": true,
        "id": "6oEK4fK8SB4Q",
        "outputId": "e7dc6158-e1a9-4a84-d5f7-b065daf719f6"
      },
      "execution_count": null,
      "outputs": [
        {
          "output_type": "stream",
          "name": "stdout",
          "text": [
            "Variables categóricas: ['ESTU_PRGM_ACADEMICO', 'ESTU_PRGM_DEPARTAMENTO', 'ESTU_VALORMATRICULAUNIVERSIDAD', 'ESTU_HORASSEMANATRABAJA', 'FAMI_ESTRATOVIVIENDA', 'FAMI_TIENEINTERNET', 'FAMI_EDUCACIONPADRE', 'FAMI_TIENELAVADORA', 'FAMI_TIENEAUTOMOVIL', 'ESTU_PRIVADO_LIBERTAD', 'ESTU_PAGOMATRICULAPROPIO', 'FAMI_TIENECOMPUTADOR', 'FAMI_TIENEINTERNET.1', 'FAMI_EDUCACIONMADRE', 'RENDIMIENTO_GLOBAL']\n"
          ]
        }
      ]
    },
    {
      "cell_type": "code",
      "source": [
        "## Acá observamos cuantos valores diferentes tiene cada variable categórica\n",
        "\n",
        "for column in vcat:\n",
        "    unique_count = bd[column].nunique()\n",
        "    print(f\"Variable: {column}, Número de valores únicos: {unique_count}\")"
      ],
      "metadata": {
        "colab": {
          "base_uri": "https://localhost:8080/"
        },
        "collapsed": true,
        "id": "Js-MhuoJotEh",
        "outputId": "657d7df1-033e-41a3-b0de-52e8a8c453e1"
      },
      "execution_count": null,
      "outputs": [
        {
          "output_type": "stream",
          "name": "stdout",
          "text": [
            "Variable: ESTU_PRGM_ACADEMICO, Número de valores únicos: 948\n",
            "Variable: ESTU_PRGM_DEPARTAMENTO, Número de valores únicos: 31\n",
            "Variable: ESTU_VALORMATRICULAUNIVERSIDAD, Número de valores únicos: 8\n",
            "Variable: ESTU_HORASSEMANATRABAJA, Número de valores únicos: 5\n",
            "Variable: FAMI_ESTRATOVIVIENDA, Número de valores únicos: 7\n",
            "Variable: FAMI_TIENEINTERNET, Número de valores únicos: 2\n",
            "Variable: FAMI_EDUCACIONPADRE, Número de valores únicos: 12\n",
            "Variable: FAMI_TIENELAVADORA, Número de valores únicos: 2\n",
            "Variable: FAMI_TIENEAUTOMOVIL, Número de valores únicos: 2\n",
            "Variable: ESTU_PRIVADO_LIBERTAD, Número de valores únicos: 2\n",
            "Variable: ESTU_PAGOMATRICULAPROPIO, Número de valores únicos: 2\n",
            "Variable: FAMI_TIENECOMPUTADOR, Número de valores únicos: 2\n",
            "Variable: FAMI_TIENEINTERNET.1, Número de valores únicos: 2\n",
            "Variable: FAMI_EDUCACIONMADRE, Número de valores únicos: 12\n",
            "Variable: RENDIMIENTO_GLOBAL, Número de valores únicos: 4\n"
          ]
        }
      ]
    },
    {
      "cell_type": "code",
      "source": [
        "## Acá se muestran todas las variables númericas que contiene la base de datos\n",
        "\n",
        "vnum = bd.select_dtypes(include=['int64', 'float64']).columns.tolist()\n",
        "print(\"Variables númericas:\", vnum)"
      ],
      "metadata": {
        "colab": {
          "base_uri": "https://localhost:8080/"
        },
        "collapsed": true,
        "id": "xRvXQ5AlpoBA",
        "outputId": "c5af9ad8-11dd-4125-d5a9-ab703842e5ad"
      },
      "execution_count": null,
      "outputs": [
        {
          "output_type": "stream",
          "name": "stdout",
          "text": [
            "Variables númericas: ['ID', 'PERIODO', 'coef_1', 'coef_2', 'coef_3', 'coef_4']\n"
          ]
        }
      ]
    },
    {
      "cell_type": "code",
      "source": [
        "## Acá observamos cuantos valores diferentes tiene cada variable númerica\n",
        "\n",
        "for column in vnum:\n",
        "    unique_count = bd[column].nunique()\n",
        "    print(f\"Variable: {column}, Número de valores únicos: {unique_count}\")"
      ],
      "metadata": {
        "colab": {
          "base_uri": "https://localhost:8080/"
        },
        "collapsed": true,
        "id": "nxKdDD3mpxXY",
        "outputId": "dc4d27ca-a490-4262-bbc2-b45fb28cd5c3"
      },
      "execution_count": null,
      "outputs": [
        {
          "output_type": "stream",
          "name": "stdout",
          "text": [
            "Variable: ID, Número de valores únicos: 692500\n",
            "Variable: PERIODO, Número de valores únicos: 9\n",
            "Variable: coef_1, Número de valores únicos: 375\n",
            "Variable: coef_2, Número de valores únicos: 342\n",
            "Variable: coef_3, Número de valores únicos: 196\n",
            "Variable: coef_4, Número de valores únicos: 276\n"
          ]
        }
      ]
    },
    {
      "cell_type": "markdown",
      "source": [
        "### **Despues de mirar las variables categóricas y númericas vamos a rellenar los valores faltantes para que la base de datos quede completa y no tenga ningún valor faltante.**"
      ],
      "metadata": {
        "id": "Z0IM_zInrq5J"
      }
    },
    {
      "cell_type": "code",
      "source": [
        "## Para eso debemos crear una copia de la base de datos, para no unir bases de datos\n",
        "\n",
        "bd2 = bd.copy()"
      ],
      "metadata": {
        "id": "93Q0uWz-s1tg"
      },
      "execution_count": null,
      "outputs": []
    },
    {
      "cell_type": "code",
      "source": [
        "## Vamos a buscar los valores más comunes\n",
        "\n",
        "vc = bd2[vcat].mode().iloc[0]\n",
        "print(vc)"
      ],
      "metadata": {
        "colab": {
          "base_uri": "https://localhost:8080/"
        },
        "id": "LbpX1rFtxMW-",
        "outputId": "26b733a4-34c0-49a4-c2a3-1f9a8bba688f"
      },
      "execution_count": null,
      "outputs": [
        {
          "output_type": "stream",
          "name": "stdout",
          "text": [
            "ESTU_PRGM_ACADEMICO                                              DERECHO\n",
            "ESTU_PRGM_DEPARTAMENTO                                            BOGOTÁ\n",
            "ESTU_VALORMATRICULAUNIVERSIDAD    Entre 1 millón y menos de 2.5 millones\n",
            "ESTU_HORASSEMANATRABAJA                                  Más de 30 horas\n",
            "FAMI_ESTRATOVIVIENDA                                           Estrato 2\n",
            "FAMI_TIENEINTERNET                                                    Si\n",
            "FAMI_EDUCACIONPADRE                   Secundaria (Bachillerato) completa\n",
            "FAMI_TIENELAVADORA                                                    Si\n",
            "FAMI_TIENEAUTOMOVIL                                                   No\n",
            "ESTU_PRIVADO_LIBERTAD                                                  N\n",
            "ESTU_PAGOMATRICULAPROPIO                                              No\n",
            "FAMI_TIENECOMPUTADOR                                                  Si\n",
            "FAMI_TIENEINTERNET.1                                                  Si\n",
            "FAMI_EDUCACIONMADRE                   Secundaria (Bachillerato) completa\n",
            "RENDIMIENTO_GLOBAL                                                  alto\n",
            "Name: 0, dtype: object\n"
          ]
        }
      ]
    },
    {
      "cell_type": "code",
      "source": [
        "## Acá rellenamos todos los datos faltantes\n",
        "\n",
        "for column in vcat:\n",
        "  bd2[column].fillna(vc[column], inplace=True)"
      ],
      "metadata": {
        "colab": {
          "base_uri": "https://localhost:8080/"
        },
        "id": "Ltoc3qsTsVLI",
        "outputId": "6721d983-1f59-4be2-ccaa-1526183d4af1"
      },
      "execution_count": null,
      "outputs": [
        {
          "output_type": "stream",
          "name": "stderr",
          "text": [
            "<ipython-input-15-7b096166a3c4>:4: FutureWarning: A value is trying to be set on a copy of a DataFrame or Series through chained assignment using an inplace method.\n",
            "The behavior will change in pandas 3.0. This inplace method will never work because the intermediate object on which we are setting values always behaves as a copy.\n",
            "\n",
            "For example, when doing 'df[col].method(value, inplace=True)', try using 'df.method({col: value}, inplace=True)' or df[col] = df[col].method(value) instead, to perform the operation inplace on the original object.\n",
            "\n",
            "\n",
            "  bd2[column].fillna(vc[column], inplace=True)\n"
          ]
        }
      ]
    },
    {
      "cell_type": "code",
      "source": [
        "## Volvemos a mirar la base de datos después de agragarle los valores faltantes\n",
        "\n",
        "bd2.isna().sum()"
      ],
      "metadata": {
        "colab": {
          "base_uri": "https://localhost:8080/",
          "height": 743
        },
        "id": "ENUrCyRnxxV3",
        "outputId": "b28d6a63-6c89-4520-b388-a888de1f1930"
      },
      "execution_count": null,
      "outputs": [
        {
          "output_type": "execute_result",
          "data": {
            "text/plain": [
              "ID                                0\n",
              "PERIODO                           0\n",
              "ESTU_PRGM_ACADEMICO               0\n",
              "ESTU_PRGM_DEPARTAMENTO            0\n",
              "ESTU_VALORMATRICULAUNIVERSIDAD    0\n",
              "ESTU_HORASSEMANATRABAJA           0\n",
              "FAMI_ESTRATOVIVIENDA              0\n",
              "FAMI_TIENEINTERNET                0\n",
              "FAMI_EDUCACIONPADRE               0\n",
              "FAMI_TIENELAVADORA                0\n",
              "FAMI_TIENEAUTOMOVIL               0\n",
              "ESTU_PRIVADO_LIBERTAD             0\n",
              "ESTU_PAGOMATRICULAPROPIO          0\n",
              "FAMI_TIENECOMPUTADOR              0\n",
              "FAMI_TIENEINTERNET.1              0\n",
              "FAMI_EDUCACIONMADRE               0\n",
              "RENDIMIENTO_GLOBAL                0\n",
              "coef_1                            0\n",
              "coef_2                            0\n",
              "coef_3                            0\n",
              "coef_4                            0\n",
              "dtype: int64"
            ],
            "text/html": [
              "<div>\n",
              "<style scoped>\n",
              "    .dataframe tbody tr th:only-of-type {\n",
              "        vertical-align: middle;\n",
              "    }\n",
              "\n",
              "    .dataframe tbody tr th {\n",
              "        vertical-align: top;\n",
              "    }\n",
              "\n",
              "    .dataframe thead th {\n",
              "        text-align: right;\n",
              "    }\n",
              "</style>\n",
              "<table border=\"1\" class=\"dataframe\">\n",
              "  <thead>\n",
              "    <tr style=\"text-align: right;\">\n",
              "      <th></th>\n",
              "      <th>0</th>\n",
              "    </tr>\n",
              "  </thead>\n",
              "  <tbody>\n",
              "    <tr>\n",
              "      <th>ID</th>\n",
              "      <td>0</td>\n",
              "    </tr>\n",
              "    <tr>\n",
              "      <th>PERIODO</th>\n",
              "      <td>0</td>\n",
              "    </tr>\n",
              "    <tr>\n",
              "      <th>ESTU_PRGM_ACADEMICO</th>\n",
              "      <td>0</td>\n",
              "    </tr>\n",
              "    <tr>\n",
              "      <th>ESTU_PRGM_DEPARTAMENTO</th>\n",
              "      <td>0</td>\n",
              "    </tr>\n",
              "    <tr>\n",
              "      <th>ESTU_VALORMATRICULAUNIVERSIDAD</th>\n",
              "      <td>0</td>\n",
              "    </tr>\n",
              "    <tr>\n",
              "      <th>ESTU_HORASSEMANATRABAJA</th>\n",
              "      <td>0</td>\n",
              "    </tr>\n",
              "    <tr>\n",
              "      <th>FAMI_ESTRATOVIVIENDA</th>\n",
              "      <td>0</td>\n",
              "    </tr>\n",
              "    <tr>\n",
              "      <th>FAMI_TIENEINTERNET</th>\n",
              "      <td>0</td>\n",
              "    </tr>\n",
              "    <tr>\n",
              "      <th>FAMI_EDUCACIONPADRE</th>\n",
              "      <td>0</td>\n",
              "    </tr>\n",
              "    <tr>\n",
              "      <th>FAMI_TIENELAVADORA</th>\n",
              "      <td>0</td>\n",
              "    </tr>\n",
              "    <tr>\n",
              "      <th>FAMI_TIENEAUTOMOVIL</th>\n",
              "      <td>0</td>\n",
              "    </tr>\n",
              "    <tr>\n",
              "      <th>ESTU_PRIVADO_LIBERTAD</th>\n",
              "      <td>0</td>\n",
              "    </tr>\n",
              "    <tr>\n",
              "      <th>ESTU_PAGOMATRICULAPROPIO</th>\n",
              "      <td>0</td>\n",
              "    </tr>\n",
              "    <tr>\n",
              "      <th>FAMI_TIENECOMPUTADOR</th>\n",
              "      <td>0</td>\n",
              "    </tr>\n",
              "    <tr>\n",
              "      <th>FAMI_TIENEINTERNET.1</th>\n",
              "      <td>0</td>\n",
              "    </tr>\n",
              "    <tr>\n",
              "      <th>FAMI_EDUCACIONMADRE</th>\n",
              "      <td>0</td>\n",
              "    </tr>\n",
              "    <tr>\n",
              "      <th>RENDIMIENTO_GLOBAL</th>\n",
              "      <td>0</td>\n",
              "    </tr>\n",
              "    <tr>\n",
              "      <th>coef_1</th>\n",
              "      <td>0</td>\n",
              "    </tr>\n",
              "    <tr>\n",
              "      <th>coef_2</th>\n",
              "      <td>0</td>\n",
              "    </tr>\n",
              "    <tr>\n",
              "      <th>coef_3</th>\n",
              "      <td>0</td>\n",
              "    </tr>\n",
              "    <tr>\n",
              "      <th>coef_4</th>\n",
              "      <td>0</td>\n",
              "    </tr>\n",
              "  </tbody>\n",
              "</table>\n",
              "</div><br><label><b>dtype:</b> int64</label>"
            ]
          },
          "metadata": {},
          "execution_count": 16
        }
      ]
    },
    {
      "cell_type": "markdown",
      "source": [
        "Observamos si hay columnas idénticas, es decir, columnas que se repitan más de una vez."
      ],
      "metadata": {
        "id": "jdkRscDbM6-z"
      }
    },
    {
      "cell_type": "code",
      "source": [
        "dup = []\n",
        "cols = bd2.columns\n",
        "\n",
        "for i in range(len(cols)):\n",
        "    for j in range(i + 1, len(cols)):\n",
        "        if bd2[cols[i]].equals(bd2[cols[j]]):\n",
        "            dup.append(cols[j])\n",
        "\n",
        "print(\"Columnas repetidas:\")\n",
        "print(dup)"
      ],
      "metadata": {
        "colab": {
          "base_uri": "https://localhost:8080/"
        },
        "id": "nTLbHn4cM6tS",
        "outputId": "571f38a4-17d4-40a3-d455-b8d08737e768"
      },
      "execution_count": null,
      "outputs": [
        {
          "output_type": "stream",
          "name": "stdout",
          "text": [
            "Columnas repetidas:\n",
            "['FAMI_TIENEINTERNET.1']\n"
          ]
        }
      ]
    },
    {
      "cell_type": "markdown",
      "source": [
        "Observamos que esta repetida la columna 'FAMI_TIENEINTERNET.1', por lo cual vamos a eliminar una de esas."
      ],
      "metadata": {
        "id": "K-e3Y_2ENXcE"
      }
    },
    {
      "cell_type": "code",
      "source": [
        "def ecr(bd2):\n",
        "    cols = bd2.columns\n",
        "    colel = []\n",
        "    for i in range(len(cols)):\n",
        "        for j in range(i + 1, len(cols)):\n",
        "            if bd2[cols[i]].equals(bd2[cols[j]]):\n",
        "                colel.append(cols[j])\n",
        "    return bd2.drop(columns=colel)\n",
        "\n",
        "\n",
        "bd2 = ecr(bd2)"
      ],
      "metadata": {
        "id": "SB5EAL-HNjyr"
      },
      "execution_count": null,
      "outputs": []
    },
    {
      "cell_type": "markdown",
      "source": [
        "Acá vamos a mirar otra vez si ya eliminamos las columnas repetidas."
      ],
      "metadata": {
        "id": "QejWditJORH6"
      }
    },
    {
      "cell_type": "code",
      "source": [
        "dup = []\n",
        "cols = bd2.columns\n",
        "\n",
        "for i in range(len(cols)):\n",
        "    for j in range(i + 1, len(cols)):\n",
        "        if bd2[cols[i]].equals(bd2[cols[j]]):\n",
        "            dup.append(cols[j])\n",
        "\n",
        "print(\"Columnas repetidas:\")\n",
        "print(dup)"
      ],
      "metadata": {
        "colab": {
          "base_uri": "https://localhost:8080/"
        },
        "id": "L4wWNfOjOXAq",
        "outputId": "3f3b2e60-7713-4372-9312-fd131763b154"
      },
      "execution_count": null,
      "outputs": [
        {
          "output_type": "stream",
          "name": "stdout",
          "text": [
            "Columnas repetidas:\n",
            "[]\n"
          ]
        }
      ]
    },
    {
      "cell_type": "markdown",
      "source": [
        "#### **Antes de normalizar las variables categóricas vamos a buscar las columnas prescindible para eliminarlas**"
      ],
      "metadata": {
        "id": "NWrsXMCTysNY"
      }
    },
    {
      "cell_type": "code",
      "source": [
        "#import pandas as pd\n",
        "#import numpy as np\n",
        "from sklearn.feature_selection import VarianceThreshold\n",
        "\n",
        "## Para las variables númericas vamos a eliminarlas si tiene varianza baja\n",
        "## ya que puede indicar que tiene columnas con poca variación de datos\n",
        "\n",
        "numbd = bd2[vnum]\n",
        "selector = VarianceThreshold(threshold=0.01)\n",
        "selector.fit(numbd)\n",
        "bajav = numbd.columns[~selector.get_support()].tolist()\n",
        "print(\"Columnas numéricas prescindibles por baja varianza (<0.01):\", bajav)"
      ],
      "metadata": {
        "colab": {
          "base_uri": "https://localhost:8080/"
        },
        "id": "-aut9giazFKW",
        "outputId": "dd6814d8-35ec-4bd3-ab46-ab8488874cce"
      },
      "execution_count": null,
      "outputs": [
        {
          "output_type": "stream",
          "name": "stdout",
          "text": [
            "Columnas numéricas prescindibles por baja varianza (<0.01): ['coef_2', 'coef_3', 'coef_4']\n"
          ]
        }
      ]
    },
    {
      "cell_type": "code",
      "source": [
        "## Para evitar errores vamos a hacer las variables categoricas pero con la base de datos nueva que hicimos bd2\n",
        "\n",
        "vcat2 = bd2.select_dtypes(include=['object', 'category']).columns.tolist()\n",
        "print(\"Variables categóricas:\", vcat2)"
      ],
      "metadata": {
        "colab": {
          "base_uri": "https://localhost:8080/"
        },
        "id": "NTZqdNfAPrMC",
        "outputId": "4f02dc6e-333e-4035-8542-18d9a73bdd4d"
      },
      "execution_count": null,
      "outputs": [
        {
          "output_type": "stream",
          "name": "stdout",
          "text": [
            "Variables categóricas: ['ESTU_PRGM_ACADEMICO', 'ESTU_PRGM_DEPARTAMENTO', 'ESTU_VALORMATRICULAUNIVERSIDAD', 'ESTU_HORASSEMANATRABAJA', 'FAMI_ESTRATOVIVIENDA', 'FAMI_TIENEINTERNET', 'FAMI_EDUCACIONPADRE', 'FAMI_TIENELAVADORA', 'FAMI_TIENEAUTOMOVIL', 'ESTU_PRIVADO_LIBERTAD', 'ESTU_PAGOMATRICULAPROPIO', 'FAMI_TIENECOMPUTADOR', 'FAMI_EDUCACIONMADRE', 'RENDIMIENTO_GLOBAL']\n"
          ]
        }
      ]
    },
    {
      "cell_type": "code",
      "source": [
        "## Ahora sigue las variables categóricas y las vamos a eliminar si los valores están desbalanceadas,\n",
        "## es decir, si en una columna tiene un valor que representa más del 95% de los datos, si pasa esto esta columna se eliminara.\n",
        "\n",
        "coldes = 0.95\n",
        "descat = []\n",
        "for column in vcat2:\n",
        "    value_counts = bd2[column].value_counts(normalize=True)\n",
        "    domcat = value_counts.iloc[0] if not value_counts.empty else 0\n",
        "    if domcat > coldes:\n",
        "        descat.append(column)\n",
        "print(\"Columnas categóricas prescindibles por distribución desbalanceada (>95% en una categoría):\", descat)"
      ],
      "metadata": {
        "id": "HVX90nRz02DH",
        "colab": {
          "base_uri": "https://localhost:8080/"
        },
        "outputId": "06a4e817-8510-45f8-ee43-8e2b675c75cd"
      },
      "execution_count": null,
      "outputs": [
        {
          "output_type": "stream",
          "name": "stdout",
          "text": [
            "Columnas categóricas prescindibles por distribución desbalanceada (>95% en una categoría): ['ESTU_PRIVADO_LIBERTAD']\n"
          ]
        }
      ]
    },
    {
      "cell_type": "markdown",
      "source": [
        "### **Con los resultados previos, decidimos no eliminar las columnas de los coeficientes 'coef_2', 'coef_3', 'coef_4', ya que no tenemos mucha información al respecto de su utilidad, caso contrario a la columna de 'ESTU_PRIVADO_LIBERTAD', ya que esta nos da una información concreta sobre si el estudiante ha sido privado de su libertad en alguna ocasión y como más del 95% de los estudiantes en la base de datos no les ha pasado podemos considerar que la variable no afecta un análisis que hagamos a esta base de datos.**"
      ],
      "metadata": {
        "id": "uzvmDVX8SKXq"
      }
    },
    {
      "cell_type": "code",
      "source": [
        "## La afirmación anterior la podemos corroborar con unas gráficas:\n",
        "\n",
        "bd2['ESTU_PRIVADO_LIBERTAD'] = bd2['ESTU_PRIVADO_LIBERTAD'].map({'S': 'Sí', 'N': 'No'})\n",
        "\n",
        "fig, axes = plt.subplots(1, 2, figsize=(14, 6))\n",
        "\n",
        "# Gráfico 1: barras - cantidad de estudiantes que han estados privados de la libertad\n",
        "sns.countplot(data = bd2, x='ESTU_PRIVADO_LIBERTAD', ax=axes[0], palette='Set2')\n",
        "axes[0].set_title('Estudiantes Privados de Libertad')\n",
        "axes[0].set_xlabel('¿Está privado de libertad?')\n",
        "axes[0].set_ylabel('Cantidad')\n",
        "\n",
        "# Gráfico 2: boxplot de los coeficientes\n",
        "coef_cols = ['coef_1', 'coef_2', 'coef_3', 'coef_4']\n",
        "sns.boxplot(data = bd2[coef_cols], ax=axes[1], palette='Pastel1')\n",
        "axes[1].set_title('Distribución de Coeficientes')\n",
        "axes[1].set_xlabel('Coeficientes')\n",
        "axes[1].set_ylabel('Valor')\n",
        "\n",
        "\n",
        "plt.tight_layout()\n",
        "plt.show()\n"
      ],
      "metadata": {
        "colab": {
          "base_uri": "https://localhost:8080/",
          "height": 651
        },
        "id": "qPDh769dTXTR",
        "outputId": "091c123d-f2cd-49aa-ab32-30717f4e048b"
      },
      "execution_count": null,
      "outputs": [
        {
          "output_type": "stream",
          "name": "stderr",
          "text": [
            "<ipython-input-23-cd5ec9ed76a2>:8: FutureWarning: \n",
            "\n",
            "Passing `palette` without assigning `hue` is deprecated and will be removed in v0.14.0. Assign the `x` variable to `hue` and set `legend=False` for the same effect.\n",
            "\n",
            "  sns.countplot(data = bd2, x='ESTU_PRIVADO_LIBERTAD', ax=axes[0], palette='Set2')\n"
          ]
        },
        {
          "output_type": "display_data",
          "data": {
            "text/plain": [
              "<Figure size 1400x600 with 2 Axes>"
            ],
            "image/png": "[encoded data removed]"
          },
          "metadata": {}
        }
      ]
    },
    {
      "cell_type": "markdown",
      "source": [
        "Como pudimos observar, con estas gráficas vamos a tomar la desición de eliminar la variable de 'ESTU_PRIVADO_LIBERTAD' y dejar las de los coeficientes"
      ],
      "metadata": {
        "id": "Y1FnaQ6tWDrB"
      }
    },
    {
      "cell_type": "code",
      "source": [
        "## Con este código vamos a eliminar la variable ESTU_PRIVADO_LIBERTAD\n",
        "\n",
        "bd2 = bd2.drop('ESTU_PRIVADO_LIBERTAD', axis=1)"
      ],
      "metadata": {
        "id": "DFS0iMHpWDS5"
      },
      "execution_count": null,
      "outputs": []
    },
    {
      "cell_type": "code",
      "source": [
        "## Y verificamos la base de datos que haya sido eliminado existosamente\n",
        "\n",
        "bd2.info()"
      ],
      "metadata": {
        "colab": {
          "base_uri": "https://localhost:8080/"
        },
        "id": "xqn8f34AWjH5",
        "outputId": "5fb06e66-70ef-48c1-8e74-d31ad9bbc99c"
      },
      "execution_count": null,
      "outputs": [
        {
          "output_type": "stream",
          "name": "stdout",
          "text": [
            "<class 'pandas.core.frame.DataFrame'>\n",
            "RangeIndex: 692500 entries, 0 to 692499\n",
            "Data columns (total 19 columns):\n",
            " #   Column                          Non-Null Count   Dtype  \n",
            "---  ------                          --------------   -----  \n",
            " 0   ID                              692500 non-null  int64  \n",
            " 1   PERIODO                         692500 non-null  int64  \n",
            " 2   ESTU_PRGM_ACADEMICO             692500 non-null  object \n",
            " 3   ESTU_PRGM_DEPARTAMENTO          692500 non-null  object \n",
            " 4   ESTU_VALORMATRICULAUNIVERSIDAD  692500 non-null  object \n",
            " 5   ESTU_HORASSEMANATRABAJA         692500 non-null  object \n",
            " 6   FAMI_ESTRATOVIVIENDA            692500 non-null  object \n",
            " 7   FAMI_TIENEINTERNET              692500 non-null  object \n",
            " 8   FAMI_EDUCACIONPADRE             692500 non-null  object \n",
            " 9   FAMI_TIENELAVADORA              692500 non-null  object \n",
            " 10  FAMI_TIENEAUTOMOVIL             692500 non-null  object \n",
            " 11  ESTU_PAGOMATRICULAPROPIO        692500 non-null  object \n",
            " 12  FAMI_TIENECOMPUTADOR            692500 non-null  object \n",
            " 13  FAMI_EDUCACIONMADRE             692500 non-null  object \n",
            " 14  RENDIMIENTO_GLOBAL              692500 non-null  object \n",
            " 15  coef_1                          692500 non-null  float64\n",
            " 16  coef_2                          692500 non-null  float64\n",
            " 17  coef_3                          692500 non-null  float64\n",
            " 18  coef_4                          692500 non-null  float64\n",
            "dtypes: float64(4), int64(2), object(13)\n",
            "memory usage: 100.4+ MB\n"
          ]
        }
      ]
    },
    {
      "cell_type": "code",
      "source": [
        "bd2.shape"
      ],
      "metadata": {
        "colab": {
          "base_uri": "https://localhost:8080/"
        },
        "id": "1OzHF2POW8fB",
        "outputId": "64e68b36-f8a0-4c25-cc04-4c3ee8d517d7"
      },
      "execution_count": null,
      "outputs": [
        {
          "output_type": "execute_result",
          "data": {
            "text/plain": [
              "(692500, 19)"
            ]
          },
          "metadata": {},
          "execution_count": 26
        }
      ]
    },
    {
      "cell_type": "markdown",
      "source": [
        "# **Normalización de datos**\n",
        "\n",
        "## Después de haber depurado la base de datos podemos avanzar en darle valores a nuestras variables categóricas para poder así manejar más fácilmente la base de datos."
      ],
      "metadata": {
        "id": "PTC-4i9VXGbl"
      }
    },
    {
      "cell_type": "markdown",
      "source": [
        "#### **Vamos a empezar con las variables binarias, es decir, que solo tienen valores de si o no, para estas vamos a darles valores de:**\n",
        "#### - Si = 1\n",
        "#### - No = 0"
      ],
      "metadata": {
        "id": "bZzhe3WYZwCy"
      }
    },
    {
      "cell_type": "code",
      "source": [
        "## Acá utilizamos el código para ponerle valores a las binarias:\n",
        "\n",
        "cols_binarias = ['FAMI_TIENEINTERNET',\n",
        "                 'FAMI_TIENELAVADORA',\n",
        "                 'FAMI_TIENEAUTOMOVIL',\n",
        "                 'ESTU_PAGOMATRICULAPROPIO',\n",
        "                 'FAMI_TIENECOMPUTADOR']\n",
        "\n",
        "for col in cols_binarias:\n",
        "    bd2[col] = bd2[col].replace({'Si': 1, 'No': 0})"
      ],
      "metadata": {
        "id": "5sWLS_KFYt5Y",
        "colab": {
          "base_uri": "https://localhost:8080/"
        },
        "outputId": "1eaaf857-3b3f-44cd-d822-35aaf95ba33c"
      },
      "execution_count": null,
      "outputs": [
        {
          "output_type": "stream",
          "name": "stderr",
          "text": [
            "<ipython-input-27-4273c6ba888b>:10: FutureWarning: Downcasting behavior in `replace` is deprecated and will be removed in a future version. To retain the old behavior, explicitly call `result.infer_objects(copy=False)`. To opt-in to the future behavior, set `pd.set_option('future.no_silent_downcasting', True)`\n",
            "  bd2[col] = bd2[col].replace({'Si': 1, 'No': 0})\n"
          ]
        }
      ]
    },
    {
      "cell_type": "code",
      "source": [
        "## Tocá verificar si el código funciono, para eso vamos a mostrar los valores de una variable\n",
        "bd2['ESTU_PAGOMATRICULAPROPIO'].value_counts()"
      ],
      "metadata": {
        "colab": {
          "base_uri": "https://localhost:8080/",
          "height": 178
        },
        "id": "uzJl8Zl7awdB",
        "outputId": "c1e135b0-6b1c-4454-c7ee-b924d1687c81"
      },
      "execution_count": null,
      "outputs": [
        {
          "output_type": "execute_result",
          "data": {
            "text/plain": [
              "ESTU_PAGOMATRICULAPROPIO\n",
              "0    388699\n",
              "1    303801\n",
              "Name: count, dtype: int64"
            ],
            "text/html": [
              "<div>\n",
              "<style scoped>\n",
              "    .dataframe tbody tr th:only-of-type {\n",
              "        vertical-align: middle;\n",
              "    }\n",
              "\n",
              "    .dataframe tbody tr th {\n",
              "        vertical-align: top;\n",
              "    }\n",
              "\n",
              "    .dataframe thead th {\n",
              "        text-align: right;\n",
              "    }\n",
              "</style>\n",
              "<table border=\"1\" class=\"dataframe\">\n",
              "  <thead>\n",
              "    <tr style=\"text-align: right;\">\n",
              "      <th></th>\n",
              "      <th>count</th>\n",
              "    </tr>\n",
              "    <tr>\n",
              "      <th>ESTU_PAGOMATRICULAPROPIO</th>\n",
              "      <th></th>\n",
              "    </tr>\n",
              "  </thead>\n",
              "  <tbody>\n",
              "    <tr>\n",
              "      <th>0</th>\n",
              "      <td>388699</td>\n",
              "    </tr>\n",
              "    <tr>\n",
              "      <th>1</th>\n",
              "      <td>303801</td>\n",
              "    </tr>\n",
              "  </tbody>\n",
              "</table>\n",
              "</div><br><label><b>dtype:</b> int64</label>"
            ]
          },
          "metadata": {},
          "execution_count": 28
        }
      ]
    },
    {
      "cell_type": "markdown",
      "source": [
        "### **Vamos a seguir clasificando las variables una por una asignandoles valores**"
      ],
      "metadata": {
        "id": "QpvzoDeWdW0O"
      }
    },
    {
      "cell_type": "markdown",
      "source": [
        "La variable Rendimiento Global le vamos a asignar los valores de la siguiente manera:\n",
        "\n",
        "- Bajo = 0\n",
        "- Medio-Bajo = 1\n",
        "- Medio-Alto = 2\n",
        "- Alto = 3"
      ],
      "metadata": {
        "id": "LnKg7-Tsdgho"
      }
    },
    {
      "cell_type": "code",
      "source": [
        "bd2['RENDIMIENTO_GLOBAL'].value_counts()"
      ],
      "metadata": {
        "colab": {
          "base_uri": "https://localhost:8080/",
          "height": 241
        },
        "id": "6TraqEWWg23W",
        "outputId": "cdd4f9b2-d1d5-482c-d477-763c35a65eaf"
      },
      "execution_count": null,
      "outputs": [
        {
          "output_type": "execute_result",
          "data": {
            "text/plain": [
              "RENDIMIENTO_GLOBAL\n",
              "alto          175619\n",
              "bajo          172987\n",
              "medio-bajo    172275\n",
              "medio-alto    171619\n",
              "Name: count, dtype: int64"
            ],
            "text/html": [
              "<div>\n",
              "<style scoped>\n",
              "    .dataframe tbody tr th:only-of-type {\n",
              "        vertical-align: middle;\n",
              "    }\n",
              "\n",
              "    .dataframe tbody tr th {\n",
              "        vertical-align: top;\n",
              "    }\n",
              "\n",
              "    .dataframe thead th {\n",
              "        text-align: right;\n",
              "    }\n",
              "</style>\n",
              "<table border=\"1\" class=\"dataframe\">\n",
              "  <thead>\n",
              "    <tr style=\"text-align: right;\">\n",
              "      <th></th>\n",
              "      <th>count</th>\n",
              "    </tr>\n",
              "    <tr>\n",
              "      <th>RENDIMIENTO_GLOBAL</th>\n",
              "      <th></th>\n",
              "    </tr>\n",
              "  </thead>\n",
              "  <tbody>\n",
              "    <tr>\n",
              "      <th>alto</th>\n",
              "      <td>175619</td>\n",
              "    </tr>\n",
              "    <tr>\n",
              "      <th>bajo</th>\n",
              "      <td>172987</td>\n",
              "    </tr>\n",
              "    <tr>\n",
              "      <th>medio-bajo</th>\n",
              "      <td>172275</td>\n",
              "    </tr>\n",
              "    <tr>\n",
              "      <th>medio-alto</th>\n",
              "      <td>171619</td>\n",
              "    </tr>\n",
              "  </tbody>\n",
              "</table>\n",
              "</div><br><label><b>dtype:</b> int64</label>"
            ]
          },
          "metadata": {},
          "execution_count": 29
        }
      ]
    },
    {
      "cell_type": "code",
      "source": [
        "## Acá redefinimos los valores de las variables\n",
        "\n",
        "rendglo = {'bajo': 0,'medio-bajo': 1,'medio-alto': 2,'alto': 3}\n",
        "bd2[\"RENDIMIENTO_GLOBAL\"] = bd2[\"RENDIMIENTO_GLOBAL\"].replace(rendglo)"
      ],
      "metadata": {
        "colab": {
          "base_uri": "https://localhost:8080/"
        },
        "id": "Mym3CL2fg3Pu",
        "outputId": "4985e809-6492-47d9-857d-f162cd06d579"
      },
      "execution_count": null,
      "outputs": [
        {
          "output_type": "stream",
          "name": "stderr",
          "text": [
            "<ipython-input-30-9b969be284dc>:4: FutureWarning: Downcasting behavior in `replace` is deprecated and will be removed in a future version. To retain the old behavior, explicitly call `result.infer_objects(copy=False)`. To opt-in to the future behavior, set `pd.set_option('future.no_silent_downcasting', True)`\n",
            "  bd2[\"RENDIMIENTO_GLOBAL\"] = bd2[\"RENDIMIENTO_GLOBAL\"].replace(rendglo)\n"
          ]
        }
      ]
    },
    {
      "cell_type": "code",
      "source": [
        "## Y verificamos\n",
        "\n",
        "bd2[\"RENDIMIENTO_GLOBAL\"].value_counts()"
      ],
      "metadata": {
        "colab": {
          "base_uri": "https://localhost:8080/",
          "height": 241
        },
        "id": "ndWR0BqKiCNN",
        "outputId": "29152d8e-5119-44eb-f092-f753581a8da1"
      },
      "execution_count": null,
      "outputs": [
        {
          "output_type": "execute_result",
          "data": {
            "text/plain": [
              "RENDIMIENTO_GLOBAL\n",
              "3    175619\n",
              "0    172987\n",
              "1    172275\n",
              "2    171619\n",
              "Name: count, dtype: int64"
            ],
            "text/html": [
              "<div>\n",
              "<style scoped>\n",
              "    .dataframe tbody tr th:only-of-type {\n",
              "        vertical-align: middle;\n",
              "    }\n",
              "\n",
              "    .dataframe tbody tr th {\n",
              "        vertical-align: top;\n",
              "    }\n",
              "\n",
              "    .dataframe thead th {\n",
              "        text-align: right;\n",
              "    }\n",
              "</style>\n",
              "<table border=\"1\" class=\"dataframe\">\n",
              "  <thead>\n",
              "    <tr style=\"text-align: right;\">\n",
              "      <th></th>\n",
              "      <th>count</th>\n",
              "    </tr>\n",
              "    <tr>\n",
              "      <th>RENDIMIENTO_GLOBAL</th>\n",
              "      <th></th>\n",
              "    </tr>\n",
              "  </thead>\n",
              "  <tbody>\n",
              "    <tr>\n",
              "      <th>3</th>\n",
              "      <td>175619</td>\n",
              "    </tr>\n",
              "    <tr>\n",
              "      <th>0</th>\n",
              "      <td>172987</td>\n",
              "    </tr>\n",
              "    <tr>\n",
              "      <th>1</th>\n",
              "      <td>172275</td>\n",
              "    </tr>\n",
              "    <tr>\n",
              "      <th>2</th>\n",
              "      <td>171619</td>\n",
              "    </tr>\n",
              "  </tbody>\n",
              "</table>\n",
              "</div><br><label><b>dtype:</b> int64</label>"
            ]
          },
          "metadata": {},
          "execution_count": 31
        }
      ]
    },
    {
      "cell_type": "markdown",
      "source": [
        "La variable Horas Trabajadas a la Semana le vamos a asignar los valores de la siguiente manera:\n",
        "\n",
        "- Cero horas trabajadas = 0\n",
        "- Menos de 10 = 1\n",
        "- Entre 11 y 20 = 2\n",
        "- Entre 21 y 30 = 3\n",
        "- Más de 30 = 4"
      ],
      "metadata": {
        "id": "4jBFW6hpiQGN"
      }
    },
    {
      "cell_type": "code",
      "source": [
        "bd2['ESTU_HORASSEMANATRABAJA'].value_counts()"
      ],
      "metadata": {
        "colab": {
          "base_uri": "https://localhost:8080/",
          "height": 272
        },
        "id": "_BfGRgELiqrY",
        "outputId": "ff3dade7-6df5-4bb6-9c15-b74b177c2686"
      },
      "execution_count": null,
      "outputs": [
        {
          "output_type": "execute_result",
          "data": {
            "text/plain": [
              "ESTU_HORASSEMANATRABAJA\n",
              "Más de 30 horas        280209\n",
              "0                      116550\n",
              "Entre 11 y 20 horas    115857\n",
              "Entre 21 y 30 horas     92693\n",
              "Menos de 10 horas       87191\n",
              "Name: count, dtype: int64"
            ],
            "text/html": [
              "<div>\n",
              "<style scoped>\n",
              "    .dataframe tbody tr th:only-of-type {\n",
              "        vertical-align: middle;\n",
              "    }\n",
              "\n",
              "    .dataframe tbody tr th {\n",
              "        vertical-align: top;\n",
              "    }\n",
              "\n",
              "    .dataframe thead th {\n",
              "        text-align: right;\n",
              "    }\n",
              "</style>\n",
              "<table border=\"1\" class=\"dataframe\">\n",
              "  <thead>\n",
              "    <tr style=\"text-align: right;\">\n",
              "      <th></th>\n",
              "      <th>count</th>\n",
              "    </tr>\n",
              "    <tr>\n",
              "      <th>ESTU_HORASSEMANATRABAJA</th>\n",
              "      <th></th>\n",
              "    </tr>\n",
              "  </thead>\n",
              "  <tbody>\n",
              "    <tr>\n",
              "      <th>Más de 30 horas</th>\n",
              "      <td>280209</td>\n",
              "    </tr>\n",
              "    <tr>\n",
              "      <th>0</th>\n",
              "      <td>116550</td>\n",
              "    </tr>\n",
              "    <tr>\n",
              "      <th>Entre 11 y 20 horas</th>\n",
              "      <td>115857</td>\n",
              "    </tr>\n",
              "    <tr>\n",
              "      <th>Entre 21 y 30 horas</th>\n",
              "      <td>92693</td>\n",
              "    </tr>\n",
              "    <tr>\n",
              "      <th>Menos de 10 horas</th>\n",
              "      <td>87191</td>\n",
              "    </tr>\n",
              "  </tbody>\n",
              "</table>\n",
              "</div><br><label><b>dtype:</b> int64</label>"
            ]
          },
          "metadata": {},
          "execution_count": 32
        }
      ]
    },
    {
      "cell_type": "code",
      "source": [
        "## Acá redefinimos los valores de las variables\n",
        "\n",
        "horsemtra = {'0': 0,'Menos de 10 horas': 1,'Entre 11 y 20 horas': 2,'Entre 21 y 30 horas': 3, 'Más de 30 horas': 4}\n",
        "bd2[\"ESTU_HORASSEMANATRABAJA\"] = bd2[\"ESTU_HORASSEMANATRABAJA\"].replace(horsemtra)"
      ],
      "metadata": {
        "colab": {
          "base_uri": "https://localhost:8080/"
        },
        "id": "6mI2dGqHiwEt",
        "outputId": "248c152a-906d-4a88-da01-402c75fdc4b5"
      },
      "execution_count": null,
      "outputs": [
        {
          "output_type": "stream",
          "name": "stderr",
          "text": [
            "<ipython-input-33-e72561bbfb67>:4: FutureWarning: Downcasting behavior in `replace` is deprecated and will be removed in a future version. To retain the old behavior, explicitly call `result.infer_objects(copy=False)`. To opt-in to the future behavior, set `pd.set_option('future.no_silent_downcasting', True)`\n",
            "  bd2[\"ESTU_HORASSEMANATRABAJA\"] = bd2[\"ESTU_HORASSEMANATRABAJA\"].replace(horsemtra)\n"
          ]
        }
      ]
    },
    {
      "cell_type": "code",
      "source": [
        "## Y verificamos\n",
        "\n",
        "bd2[\"ESTU_HORASSEMANATRABAJA\"].value_counts()"
      ],
      "metadata": {
        "colab": {
          "base_uri": "https://localhost:8080/",
          "height": 272
        },
        "id": "UDiUdsP8iyT2",
        "outputId": "49e3e956-c6d2-4649-a1cb-55ff2fa00539"
      },
      "execution_count": null,
      "outputs": [
        {
          "output_type": "execute_result",
          "data": {
            "text/plain": [
              "ESTU_HORASSEMANATRABAJA\n",
              "4    280209\n",
              "0    116550\n",
              "2    115857\n",
              "3     92693\n",
              "1     87191\n",
              "Name: count, dtype: int64"
            ],
            "text/html": [
              "<div>\n",
              "<style scoped>\n",
              "    .dataframe tbody tr th:only-of-type {\n",
              "        vertical-align: middle;\n",
              "    }\n",
              "\n",
              "    .dataframe tbody tr th {\n",
              "        vertical-align: top;\n",
              "    }\n",
              "\n",
              "    .dataframe thead th {\n",
              "        text-align: right;\n",
              "    }\n",
              "</style>\n",
              "<table border=\"1\" class=\"dataframe\">\n",
              "  <thead>\n",
              "    <tr style=\"text-align: right;\">\n",
              "      <th></th>\n",
              "      <th>count</th>\n",
              "    </tr>\n",
              "    <tr>\n",
              "      <th>ESTU_HORASSEMANATRABAJA</th>\n",
              "      <th></th>\n",
              "    </tr>\n",
              "  </thead>\n",
              "  <tbody>\n",
              "    <tr>\n",
              "      <th>4</th>\n",
              "      <td>280209</td>\n",
              "    </tr>\n",
              "    <tr>\n",
              "      <th>0</th>\n",
              "      <td>116550</td>\n",
              "    </tr>\n",
              "    <tr>\n",
              "      <th>2</th>\n",
              "      <td>115857</td>\n",
              "    </tr>\n",
              "    <tr>\n",
              "      <th>3</th>\n",
              "      <td>92693</td>\n",
              "    </tr>\n",
              "    <tr>\n",
              "      <th>1</th>\n",
              "      <td>87191</td>\n",
              "    </tr>\n",
              "  </tbody>\n",
              "</table>\n",
              "</div><br><label><b>dtype:</b> int64</label>"
            ]
          },
          "metadata": {},
          "execution_count": 34
        }
      ]
    },
    {
      "cell_type": "markdown",
      "source": [
        "La variable Estrato de la Familia le vamos a asignar los valores de la siguiente manera:\n",
        "\n",
        "- Sin Estrato = 0\n",
        "- Estrato 1 = 1\n",
        "- Estrato 2 = 2\n",
        "- Estrato 3 = 3\n",
        "- Estrato 4 = 4\n",
        "- Estrato 5 = 5\n",
        "- Estrato 6 = 6"
      ],
      "metadata": {
        "id": "ZrI7j-eFiQcP"
      }
    },
    {
      "cell_type": "code",
      "source": [
        "bd2['FAMI_ESTRATOVIVIENDA'].value_counts()"
      ],
      "metadata": {
        "colab": {
          "base_uri": "https://localhost:8080/",
          "height": 335
        },
        "id": "U8tXDzr3juvN",
        "outputId": "a97fa4fb-18f9-469c-8339-6eda78e2f6b7"
      },
      "execution_count": null,
      "outputs": [
        {
          "output_type": "execute_result",
          "data": {
            "text/plain": [
              "FAMI_ESTRATOVIVIENDA\n",
              "Estrato 2      264808\n",
              "Estrato 3      210685\n",
              "Estrato 1      111991\n",
              "Estrato 4       65514\n",
              "Estrato 5       23608\n",
              "Estrato 6       12605\n",
              "Sin Estrato      3289\n",
              "Name: count, dtype: int64"
            ],
            "text/html": [
              "<div>\n",
              "<style scoped>\n",
              "    .dataframe tbody tr th:only-of-type {\n",
              "        vertical-align: middle;\n",
              "    }\n",
              "\n",
              "    .dataframe tbody tr th {\n",
              "        vertical-align: top;\n",
              "    }\n",
              "\n",
              "    .dataframe thead th {\n",
              "        text-align: right;\n",
              "    }\n",
              "</style>\n",
              "<table border=\"1\" class=\"dataframe\">\n",
              "  <thead>\n",
              "    <tr style=\"text-align: right;\">\n",
              "      <th></th>\n",
              "      <th>count</th>\n",
              "    </tr>\n",
              "    <tr>\n",
              "      <th>FAMI_ESTRATOVIVIENDA</th>\n",
              "      <th></th>\n",
              "    </tr>\n",
              "  </thead>\n",
              "  <tbody>\n",
              "    <tr>\n",
              "      <th>Estrato 2</th>\n",
              "      <td>264808</td>\n",
              "    </tr>\n",
              "    <tr>\n",
              "      <th>Estrato 3</th>\n",
              "      <td>210685</td>\n",
              "    </tr>\n",
              "    <tr>\n",
              "      <th>Estrato 1</th>\n",
              "      <td>111991</td>\n",
              "    </tr>\n",
              "    <tr>\n",
              "      <th>Estrato 4</th>\n",
              "      <td>65514</td>\n",
              "    </tr>\n",
              "    <tr>\n",
              "      <th>Estrato 5</th>\n",
              "      <td>23608</td>\n",
              "    </tr>\n",
              "    <tr>\n",
              "      <th>Estrato 6</th>\n",
              "      <td>12605</td>\n",
              "    </tr>\n",
              "    <tr>\n",
              "      <th>Sin Estrato</th>\n",
              "      <td>3289</td>\n",
              "    </tr>\n",
              "  </tbody>\n",
              "</table>\n",
              "</div><br><label><b>dtype:</b> int64</label>"
            ]
          },
          "metadata": {},
          "execution_count": 35
        }
      ]
    },
    {
      "cell_type": "code",
      "source": [
        "## Acá redefinimos los valores de las variables\n",
        "\n",
        "estfam = {'Sin Estrato': 0,'Estrato 1': 1,'Estrato 2': 2,'Estrato 3': 3, 'Estrato 4': 4, 'Estrato 5': 5, 'Estrato 6': 6}\n",
        "bd2[\"FAMI_ESTRATOVIVIENDA\"] = bd2[\"FAMI_ESTRATOVIVIENDA\"].replace(estfam)"
      ],
      "metadata": {
        "colab": {
          "base_uri": "https://localhost:8080/"
        },
        "id": "PpYnxKgmjukl",
        "outputId": "1e26cdbd-a619-40de-f682-bdf6a0c3a15b"
      },
      "execution_count": null,
      "outputs": [
        {
          "output_type": "stream",
          "name": "stderr",
          "text": [
            "<ipython-input-36-606a73167d6e>:4: FutureWarning: Downcasting behavior in `replace` is deprecated and will be removed in a future version. To retain the old behavior, explicitly call `result.infer_objects(copy=False)`. To opt-in to the future behavior, set `pd.set_option('future.no_silent_downcasting', True)`\n",
            "  bd2[\"FAMI_ESTRATOVIVIENDA\"] = bd2[\"FAMI_ESTRATOVIVIENDA\"].replace(estfam)\n"
          ]
        }
      ]
    },
    {
      "cell_type": "code",
      "source": [
        "## Y verificamos\n",
        "\n",
        "bd2[\"FAMI_ESTRATOVIVIENDA\"].value_counts()"
      ],
      "metadata": {
        "colab": {
          "base_uri": "https://localhost:8080/",
          "height": 335
        },
        "id": "-Qnnjdyujuat",
        "outputId": "3a4222b2-9504-47a8-d70f-1d59be5baf05"
      },
      "execution_count": null,
      "outputs": [
        {
          "output_type": "execute_result",
          "data": {
            "text/plain": [
              "FAMI_ESTRATOVIVIENDA\n",
              "2    264808\n",
              "3    210685\n",
              "1    111991\n",
              "4     65514\n",
              "5     23608\n",
              "6     12605\n",
              "0      3289\n",
              "Name: count, dtype: int64"
            ],
            "text/html": [
              "<div>\n",
              "<style scoped>\n",
              "    .dataframe tbody tr th:only-of-type {\n",
              "        vertical-align: middle;\n",
              "    }\n",
              "\n",
              "    .dataframe tbody tr th {\n",
              "        vertical-align: top;\n",
              "    }\n",
              "\n",
              "    .dataframe thead th {\n",
              "        text-align: right;\n",
              "    }\n",
              "</style>\n",
              "<table border=\"1\" class=\"dataframe\">\n",
              "  <thead>\n",
              "    <tr style=\"text-align: right;\">\n",
              "      <th></th>\n",
              "      <th>count</th>\n",
              "    </tr>\n",
              "    <tr>\n",
              "      <th>FAMI_ESTRATOVIVIENDA</th>\n",
              "      <th></th>\n",
              "    </tr>\n",
              "  </thead>\n",
              "  <tbody>\n",
              "    <tr>\n",
              "      <th>2</th>\n",
              "      <td>264808</td>\n",
              "    </tr>\n",
              "    <tr>\n",
              "      <th>3</th>\n",
              "      <td>210685</td>\n",
              "    </tr>\n",
              "    <tr>\n",
              "      <th>1</th>\n",
              "      <td>111991</td>\n",
              "    </tr>\n",
              "    <tr>\n",
              "      <th>4</th>\n",
              "      <td>65514</td>\n",
              "    </tr>\n",
              "    <tr>\n",
              "      <th>5</th>\n",
              "      <td>23608</td>\n",
              "    </tr>\n",
              "    <tr>\n",
              "      <th>6</th>\n",
              "      <td>12605</td>\n",
              "    </tr>\n",
              "    <tr>\n",
              "      <th>0</th>\n",
              "      <td>3289</td>\n",
              "    </tr>\n",
              "  </tbody>\n",
              "</table>\n",
              "</div><br><label><b>dtype:</b> int64</label>"
            ]
          },
          "metadata": {},
          "execution_count": 37
        }
      ]
    },
    {
      "cell_type": "markdown",
      "source": [
        "La variable Valor de la Matricula le vamos a asignar los valores de la siguiente manera:\n",
        "\n",
        "- No pagó matrícula = 0\n",
        "- Menos de 500 mil = 1\n",
        "- Entre 500 mil y menos de 1 millón = 2\n",
        "- Entre 1 millón y menos de 2.5 millones = 3\n",
        "- Entre 2.5 millones y menos de 4 millones = 4\n",
        "- Entre 4 millones y menos de 5.5 millones = 5\n",
        "- Entre 5.5 millones y menos de 7 millones = 6\n",
        "- Más de 7 millones = 7"
      ],
      "metadata": {
        "id": "Cx757X-EiQyt"
      }
    },
    {
      "cell_type": "code",
      "source": [
        "bd2['ESTU_VALORMATRICULAUNIVERSIDAD'].value_counts()"
      ],
      "metadata": {
        "colab": {
          "base_uri": "https://localhost:8080/",
          "height": 366
        },
        "id": "uOqyogRAkwP_",
        "outputId": "1a5a4c53-80d2-4e19-bdc9-c1b75885f8b8"
      },
      "execution_count": null,
      "outputs": [
        {
          "output_type": "execute_result",
          "data": {
            "text/plain": [
              "ESTU_VALORMATRICULAUNIVERSIDAD\n",
              "Entre 1 millón y menos de 2.5 millones      210335\n",
              "Entre 2.5 millones y menos de 4 millones    127430\n",
              "Menos de 500 mil                             80263\n",
              "Entre 500 mil y menos de 1 millón            78704\n",
              "Entre 4 millones y menos de 5.5 millones     69736\n",
              "Más de 7 millones                            68014\n",
              "Entre 5.5 millones y menos de 7 millones     38490\n",
              "No pagó matrícula                            19528\n",
              "Name: count, dtype: int64"
            ],
            "text/html": [
              "<div>\n",
              "<style scoped>\n",
              "    .dataframe tbody tr th:only-of-type {\n",
              "        vertical-align: middle;\n",
              "    }\n",
              "\n",
              "    .dataframe tbody tr th {\n",
              "        vertical-align: top;\n",
              "    }\n",
              "\n",
              "    .dataframe thead th {\n",
              "        text-align: right;\n",
              "    }\n",
              "</style>\n",
              "<table border=\"1\" class=\"dataframe\">\n",
              "  <thead>\n",
              "    <tr style=\"text-align: right;\">\n",
              "      <th></th>\n",
              "      <th>count</th>\n",
              "    </tr>\n",
              "    <tr>\n",
              "      <th>ESTU_VALORMATRICULAUNIVERSIDAD</th>\n",
              "      <th></th>\n",
              "    </tr>\n",
              "  </thead>\n",
              "  <tbody>\n",
              "    <tr>\n",
              "      <th>Entre 1 millón y menos de 2.5 millones</th>\n",
              "      <td>210335</td>\n",
              "    </tr>\n",
              "    <tr>\n",
              "      <th>Entre 2.5 millones y menos de 4 millones</th>\n",
              "      <td>127430</td>\n",
              "    </tr>\n",
              "    <tr>\n",
              "      <th>Menos de 500 mil</th>\n",
              "      <td>80263</td>\n",
              "    </tr>\n",
              "    <tr>\n",
              "      <th>Entre 500 mil y menos de 1 millón</th>\n",
              "      <td>78704</td>\n",
              "    </tr>\n",
              "    <tr>\n",
              "      <th>Entre 4 millones y menos de 5.5 millones</th>\n",
              "      <td>69736</td>\n",
              "    </tr>\n",
              "    <tr>\n",
              "      <th>Más de 7 millones</th>\n",
              "      <td>68014</td>\n",
              "    </tr>\n",
              "    <tr>\n",
              "      <th>Entre 5.5 millones y menos de 7 millones</th>\n",
              "      <td>38490</td>\n",
              "    </tr>\n",
              "    <tr>\n",
              "      <th>No pagó matrícula</th>\n",
              "      <td>19528</td>\n",
              "    </tr>\n",
              "  </tbody>\n",
              "</table>\n",
              "</div><br><label><b>dtype:</b> int64</label>"
            ]
          },
          "metadata": {},
          "execution_count": 38
        }
      ]
    },
    {
      "cell_type": "code",
      "source": [
        "## Acá redefinimos los valores de las variables\n",
        "\n",
        "estfam = {'No pagó matrícula': 0, 'Menos de 500 mil': 1,\n",
        "          'Entre 500 mil y menos de 1 millón': 2,'Entre 1 millón y menos de 2.5 millones': 3,\n",
        "          'Entre 2.5 millones y menos de 4 millones': 4, 'Entre 4 millones y menos de 5.5 millones': 5,\n",
        "          'Entre 5.5 millones y menos de 7 millones': 6, 'Más de 7 millones': 7}\n",
        "bd2[\"ESTU_VALORMATRICULAUNIVERSIDAD\"] = bd2[\"ESTU_VALORMATRICULAUNIVERSIDAD\"].replace(estfam)"
      ],
      "metadata": {
        "colab": {
          "base_uri": "https://localhost:8080/"
        },
        "id": "a9pvwYR7kwG_",
        "outputId": "0ef43a6e-6d70-4971-8852-1791bb6ea251"
      },
      "execution_count": null,
      "outputs": [
        {
          "output_type": "stream",
          "name": "stderr",
          "text": [
            "<ipython-input-39-6e3b3c610daa>:7: FutureWarning: Downcasting behavior in `replace` is deprecated and will be removed in a future version. To retain the old behavior, explicitly call `result.infer_objects(copy=False)`. To opt-in to the future behavior, set `pd.set_option('future.no_silent_downcasting', True)`\n",
            "  bd2[\"ESTU_VALORMATRICULAUNIVERSIDAD\"] = bd2[\"ESTU_VALORMATRICULAUNIVERSIDAD\"].replace(estfam)\n"
          ]
        }
      ]
    },
    {
      "cell_type": "code",
      "source": [
        "## Y verificamos\n",
        "\n",
        "bd2[\"ESTU_VALORMATRICULAUNIVERSIDAD\"].value_counts()"
      ],
      "metadata": {
        "colab": {
          "base_uri": "https://localhost:8080/",
          "height": 366
        },
        "id": "TOlZPalSkv9f",
        "outputId": "a00b1d27-df59-4519-a6bf-9f4ec7e0a2cc"
      },
      "execution_count": null,
      "outputs": [
        {
          "output_type": "execute_result",
          "data": {
            "text/plain": [
              "ESTU_VALORMATRICULAUNIVERSIDAD\n",
              "3    210335\n",
              "4    127430\n",
              "1     80263\n",
              "2     78704\n",
              "5     69736\n",
              "7     68014\n",
              "6     38490\n",
              "0     19528\n",
              "Name: count, dtype: int64"
            ],
            "text/html": [
              "<div>\n",
              "<style scoped>\n",
              "    .dataframe tbody tr th:only-of-type {\n",
              "        vertical-align: middle;\n",
              "    }\n",
              "\n",
              "    .dataframe tbody tr th {\n",
              "        vertical-align: top;\n",
              "    }\n",
              "\n",
              "    .dataframe thead th {\n",
              "        text-align: right;\n",
              "    }\n",
              "</style>\n",
              "<table border=\"1\" class=\"dataframe\">\n",
              "  <thead>\n",
              "    <tr style=\"text-align: right;\">\n",
              "      <th></th>\n",
              "      <th>count</th>\n",
              "    </tr>\n",
              "    <tr>\n",
              "      <th>ESTU_VALORMATRICULAUNIVERSIDAD</th>\n",
              "      <th></th>\n",
              "    </tr>\n",
              "  </thead>\n",
              "  <tbody>\n",
              "    <tr>\n",
              "      <th>3</th>\n",
              "      <td>210335</td>\n",
              "    </tr>\n",
              "    <tr>\n",
              "      <th>4</th>\n",
              "      <td>127430</td>\n",
              "    </tr>\n",
              "    <tr>\n",
              "      <th>1</th>\n",
              "      <td>80263</td>\n",
              "    </tr>\n",
              "    <tr>\n",
              "      <th>2</th>\n",
              "      <td>78704</td>\n",
              "    </tr>\n",
              "    <tr>\n",
              "      <th>5</th>\n",
              "      <td>69736</td>\n",
              "    </tr>\n",
              "    <tr>\n",
              "      <th>7</th>\n",
              "      <td>68014</td>\n",
              "    </tr>\n",
              "    <tr>\n",
              "      <th>6</th>\n",
              "      <td>38490</td>\n",
              "    </tr>\n",
              "    <tr>\n",
              "      <th>0</th>\n",
              "      <td>19528</td>\n",
              "    </tr>\n",
              "  </tbody>\n",
              "</table>\n",
              "</div><br><label><b>dtype:</b> int64</label>"
            ]
          },
          "metadata": {},
          "execution_count": 40
        }
      ]
    },
    {
      "cell_type": "markdown",
      "source": [
        "## **Después de haberle puesto números a los diferentes valores de nuestras variables seguimos con las variables de más número, con estas vamos a usar las columnas one-hot, estas columnas lo que van a hacer es que todos los valores únicos se van a desplegar como variables independientes, por ende, vamos a pasar de tener 19 columnas a muchas más.**"
      ],
      "metadata": {
        "id": "poOm8YJZnARO"
      }
    },
    {
      "cell_type": "markdown",
      "source": [
        "### Pero antes de hacer esto, las variable de ESTU_PRGM_ACADEMICO contiene muchas variables únicas, ya que hay muchos programas academicos, por ende, las vamos a asociar en una especie de facultades para poder hacer las columnas one-hot no tan extensas."
      ],
      "metadata": {
        "id": "cmVLU-ueoEvI"
      }
    },
    {
      "cell_type": "markdown",
      "source": [
        "Realizamos una limpieza para estandarizar la forma en las que van a ser denominados los estudiantes"
      ],
      "metadata": {
        "id": "JL4NhVImpNCi"
      }
    },
    {
      "cell_type": "code",
      "source": [
        "## Vamos a estandarizar los nombres\n",
        "\n",
        "bd2['ESTU_PRGM_ACADEMICO'] = bd2['ESTU_PRGM_ACADEMICO'].str.replace('PROFESIONAL EN ', '')\n",
        "bd2['ESTU_PRGM_ACADEMICO'] = bd2['ESTU_PRGM_ACADEMICO'].str.replace('PROFESIONAL DE ', '')\n",
        "bd2['ESTU_PRGM_ACADEMICO'] = bd2['ESTU_PRGM_ACADEMICO'].str.replace('PROFESIONAL ', '')\n",
        "bd2['ESTU_PRGM_ACADEMICO'] = bd2['ESTU_PRGM_ACADEMICO'].str.replace('PROGRAMA ', '')"
      ],
      "metadata": {
        "id": "l4zpE_Nvogm1"
      },
      "execution_count": null,
      "outputs": []
    },
    {
      "cell_type": "markdown",
      "source": [
        "Siguiendo con la estandarización de valores únicos decidimos agrupar los programas académicos en:\n",
        "\n",
        "Para todas las LICENCIATURAS se decide reemplazar por la palabra LICENCIATURA\n",
        "\n",
        "Para todo lo relacionado el MARKETING, PUBLICIDAD o MERCADEO se decide reemplazar por la palabra MARKETING\n",
        "\n",
        "Para todas las ADMINISTACIONES se decide reemplazar por la palabra ADMINISTRACION\n",
        "\n",
        "Para todas las INGENIERIAS se decide reemplazar por la palabra INGENIERIA\n",
        "\n",
        "Y así sucesivamente con todos los casos respectivos"
      ],
      "metadata": {
        "id": "eXH_CJg2pwWA"
      }
    },
    {
      "cell_type": "code",
      "source": [
        "## Aquí estamos agrupando los diferentes programas académicos para las columnas one-hot\n",
        "\n",
        "bd2['ESTU_PRGM_ACADEMICO'] = bd2['ESTU_PRGM_ACADEMICO'].apply(lambda x: 'INGENIERIA' if x.startswith('INGE') else x)\n",
        "bd2['ESTU_PRGM_ACADEMICO'] = bd2['ESTU_PRGM_ACADEMICO'].apply(lambda x: 'LICENCIATURA' if x.startswith('LIC') or x.startswith('Lic') else x)\n",
        "bd2['ESTU_PRGM_ACADEMICO'] = bd2['ESTU_PRGM_ACADEMICO'].apply(lambda x: 'ADMINISTRACION' if x.startswith('ADM')   else x)\n",
        "bd2['ESTU_PRGM_ACADEMICO'] = bd2['ESTU_PRGM_ACADEMICO'].apply(lambda x: 'CONTADURIA' if x.startswith('CONT')   else x)\n",
        "bd2['ESTU_PRGM_ACADEMICO'] = bd2['ESTU_PRGM_ACADEMICO'].apply(lambda x: 'COMUNICACION' if x.startswith('COMU')   else x)\n",
        "bd2['ESTU_PRGM_ACADEMICO'] = bd2['ESTU_PRGM_ACADEMICO'].apply(lambda x: 'DEPORTE' if 'DEPORT'  in x else x)\n",
        "bd2['ESTU_PRGM_ACADEMICO'] = bd2['ESTU_PRGM_ACADEMICO'].apply(lambda x: 'PSICOLOGIA' if 'PSIC' in x else x)\n",
        "bd2['ESTU_PRGM_ACADEMICO'] = bd2['ESTU_PRGM_ACADEMICO'].apply(lambda x: 'TRABAJO SOCIAL' if 'TRABAJO SOCIAL' in x else x)\n",
        "bd2['ESTU_PRGM_ACADEMICO'] = bd2['ESTU_PRGM_ACADEMICO'].apply(lambda x: 'DISEÑO' if 'DISE' in x else x)\n",
        "bd2['ESTU_PRGM_ACADEMICO'] = bd2['ESTU_PRGM_ACADEMICO'].apply(lambda x: 'TERAPIA' if 'TERAP' in x else x)\n",
        "bd2['ESTU_PRGM_ACADEMICO'] = bd2['ESTU_PRGM_ACADEMICO'].apply(lambda x: 'GASTRONOMIA' if 'GASTRON' in x else x)\n",
        "bd2['ESTU_PRGM_ACADEMICO'] = bd2['ESTU_PRGM_ACADEMICO'].apply(lambda x: 'VETERINARIA Y ZOOTECNIA' if 'ZOOTECNIA' in x else x)\n",
        "bd2['ESTU_PRGM_ACADEMICO'] = bd2['ESTU_PRGM_ACADEMICO'].apply(lambda x: 'NUTRICION' if 'NUTRIC' in x else x)\n",
        "bd2['ESTU_PRGM_ACADEMICO'] = bd2['ESTU_PRGM_ACADEMICO'].apply(lambda x: 'MARKETING' if ( 'MARKETING' in x or 'PUBLICIDAD' in x or 'MERCAD' in x) else x)\n",
        "bd2['ESTU_PRGM_ACADEMICO'] = bd2['ESTU_PRGM_ACADEMICO'].apply(lambda x: 'MATEMATICAS Y ESTADISTICA' if ('MATE' in x or 'ESTA' in x) else x)\n",
        "bd2['ESTU_PRGM_ACADEMICO'] = bd2['ESTU_PRGM_ACADEMICO'].apply(lambda x: 'ARTES' if 'ARTE' in x else x)\n",
        "bd2['ESTU_PRGM_ACADEMICO'] = bd2['ESTU_PRGM_ACADEMICO'].apply(lambda x: 'PERIODISMO' if 'PERIOD' in x else x)\n",
        "bd2['ESTU_PRGM_ACADEMICO'] = bd2['ESTU_PRGM_ACADEMICO'].apply(lambda x: 'LITERATURA' if 'LITER' in x else x)\n",
        "bd2['ESTU_PRGM_ACADEMICO'] = bd2['ESTU_PRGM_ACADEMICO'].apply(lambda x: 'MUSICA' if ('MUS' in x or 'MÚS' in x) else x)\n",
        "bd2['ESTU_PRGM_ACADEMICO'] = bd2['ESTU_PRGM_ACADEMICO'].apply(lambda x: 'ECONOMIA Y NEGOCIOS' if ('ECONO' in x or 'NEG' in x or 'COME' in x or 'FIN' in x) else x)\n",
        "bd2['ESTU_PRGM_ACADEMICO'] = bd2['ESTU_PRGM_ACADEMICO'].apply(lambda x: 'CIENCIAS DE LA TIERRA' if 'GEO' in x else x)\n",
        "bd2['ESTU_PRGM_ACADEMICO'] = bd2['ESTU_PRGM_ACADEMICO'].apply(lambda x: 'CIENCIAS AUDIOVISUALES' if ('CINE' in x or 'RADIO' in x or 'TELEV' in x or 'AUDIOV' in x or 'FOTOG' in x) else x)\n",
        "bd2['ESTU_PRGM_ACADEMICO'] = bd2['ESTU_PRGM_ACADEMICO'].apply(lambda x: 'DERECHO' if 'DERECHO' in x else x)\n",
        "bd2['ESTU_PRGM_ACADEMICO'] = bd2['ESTU_PRGM_ACADEMICO'].apply(lambda x: 'CIENCIAS POLITICAS' if ( 'POLIT' in x or 'POLÍT' in x) else x)\n",
        "bd2['ESTU_PRGM_ACADEMICO'] = bd2['ESTU_PRGM_ACADEMICO'].apply(lambda x: 'INGENIERIA' if 'INGE' in x else x)\n",
        "bd2['ESTU_PRGM_ACADEMICO'] = bd2['ESTU_PRGM_ACADEMICO'].apply(lambda x: 'QUIMICA' if ('QUIM' in x or 'QUÍM' in x or 'QU¿M' in x) else x)\n",
        "bd2['ESTU_PRGM_ACADEMICO'] = bd2['ESTU_PRGM_ACADEMICO'].apply(lambda x: 'CONSTRUCCION' if 'CONST' in x else x)\n",
        "bd2['ESTU_PRGM_ACADEMICO'] = bd2['ESTU_PRGM_ACADEMICO'].apply(lambda x: 'TURISMO' if 'TURIS' in x else x)\n",
        "bd2['ESTU_PRGM_ACADEMICO'] = bd2['ESTU_PRGM_ACADEMICO'].apply(lambda x: 'BIBLIOTECOLOGIA' if 'BIBLIO' in x else x)\n",
        "bd2['ESTU_PRGM_ACADEMICO'] = bd2['ESTU_PRGM_ACADEMICO'].apply(lambda x: 'FILOSOFIA' if 'FILOS' in x else x)\n",
        "bd2['ESTU_PRGM_ACADEMICO'] = bd2['ESTU_PRGM_ACADEMICO'].apply(lambda x: 'FILOLOGIA' if 'FILOL' in x else x)\n",
        "bd2['ESTU_PRGM_ACADEMICO'] = bd2['ESTU_PRGM_ACADEMICO'].apply(lambda x: 'ODONTOLOGIA' if 'ODONTOLOG' in x else x)\n",
        "bd2['ESTU_PRGM_ACADEMICO'] = bd2['ESTU_PRGM_ACADEMICO'].apply(lambda x: 'BIOLOGIA Y MICROBIOLOGIA' if 'BIOL' in x else x)\n",
        "bd2['ESTU_PRGM_ACADEMICO'] = bd2['ESTU_PRGM_ACADEMICO'].apply(lambda x: 'ECOLOGIA' if x.startswith('ECOL')   else x)\n",
        "bd2['ESTU_PRGM_ACADEMICO'] = bd2['ESTU_PRGM_ACADEMICO'].apply(lambda x: 'BACTERIOLOGIA' if 'BACT' in x else x)\n",
        "bd2['ESTU_PRGM_ACADEMICO'] = bd2['ESTU_PRGM_ACADEMICO'].apply(lambda x: 'CIENCIAS CULTURALES' if 'CULT' in x else x)\n",
        "bd2['ESTU_PRGM_ACADEMICO'] = bd2['ESTU_PRGM_ACADEMICO'].apply(lambda x: 'INSTRUMENTACION QUIRURGICA' if 'INSTRUMENTACION' in x else x)\n",
        "bd2['ESTU_PRGM_ACADEMICO'] = bd2['ESTU_PRGM_ACADEMICO'].apply(lambda x: 'CIENCIAS MARITIMAS Y AERONAUTICAS' if ('MILIT' in x or 'NAVALES' in x or 'NAU' in x) else x)"
      ],
      "metadata": {
        "id": "P6qAUme-qIvc"
      },
      "execution_count": null,
      "outputs": []
    },
    {
      "cell_type": "code",
      "source": [
        "## Este código nos muestra que pasamos de 948 a 108 valores únicos\n",
        "\n",
        "progaca = \"ESTU_PRGM_ACADEMICO\"\n",
        "bd2[progaca].nunique()"
      ],
      "metadata": {
        "colab": {
          "base_uri": "https://localhost:8080/"
        },
        "id": "9rvWlsj5qjqy",
        "outputId": "19e370e4-5947-4013-e2a6-81a1278bf3fb"
      },
      "execution_count": null,
      "outputs": [
        {
          "output_type": "execute_result",
          "data": {
            "text/plain": [
              "108"
            ]
          },
          "metadata": {},
          "execution_count": 43
        }
      ]
    },
    {
      "cell_type": "markdown",
      "source": [
        "En programas académicos poco cursados vamos a denominarlos como 'OTRA CARRERA' para terminar de filtrar todos los valores únicos de estos"
      ],
      "metadata": {
        "id": "sHAde8zlrOSH"
      }
    },
    {
      "cell_type": "code",
      "source": [
        "## Aquí estamos buscando las carreras con menos o igual a 40 estudiantes para denominarlas en una sola\n",
        "## ya que es muy poco frecuente en la base de datos\n",
        "\n",
        "valcont = bd2['ESTU_PRGM_ACADEMICO'].value_counts()\n",
        "\n",
        "valmenor40 = valcont[valcont <= 40]\n",
        "valmenor40\n",
        "\n",
        "for valor in valmenor40.index:\n",
        "    bd2.loc[bd2['ESTU_PRGM_ACADEMICO'] == valor, 'ESTU_PRGM_ACADEMICO'] = 'OTRA CARRERA'"
      ],
      "metadata": {
        "id": "yYsT65MRrjoN"
      },
      "execution_count": null,
      "outputs": []
    },
    {
      "cell_type": "code",
      "source": [
        "## Este código nos muestra que pasamos de 108 a 87 valores únicos\n",
        "\n",
        "progaca = \"ESTU_PRGM_ACADEMICO\"\n",
        "bd2[progaca].nunique()"
      ],
      "metadata": {
        "colab": {
          "base_uri": "https://localhost:8080/"
        },
        "id": "ogf8ROOcsMx2",
        "outputId": "2703654c-068e-4a85-8945-b658fff43819"
      },
      "execution_count": null,
      "outputs": [
        {
          "output_type": "execute_result",
          "data": {
            "text/plain": [
              "87"
            ]
          },
          "metadata": {},
          "execution_count": 45
        }
      ]
    },
    {
      "cell_type": "markdown",
      "source": [
        "### **Después de haber filtrado los programas académicos vamos a graficar la última tabla donde se puede ver ya todas las variables con valores númericos.**\n",
        " **Convertimos las columnas categoricas en One-Hot**\n"
      ],
      "metadata": {
        "id": "zyC1ecF1sv2r"
      }
    },
    {
      "cell_type": "code",
      "source": [
        "bdact = pd.get_dummies(bd2, columns= [\"ESTU_PRGM_ACADEMICO\",\n",
        "                                      \"ESTU_PRGM_DEPARTAMENTO\",\n",
        "                                      \"FAMI_EDUCACIONPADRE\",\n",
        "                                      \"FAMI_EDUCACIONMADRE\"])"
      ],
      "metadata": {
        "id": "upFnnQNPs-aD"
      },
      "execution_count": null,
      "outputs": []
    },
    {
      "cell_type": "code",
      "source": [
        "## Acá podemos observar la base de datos actualizada con las columnas One-Hot\n",
        "\n",
        "bdact = bdact.astype(int)\n",
        "bdact"
      ],
      "metadata": {
        "colab": {
          "base_uri": "https://localhost:8080/",
          "height": 461
        },
        "id": "9PFS7eGGtGcB",
        "outputId": "4ea0bb24-eb1a-47e4-980f-4ea7b3cdd517"
      },
      "execution_count": null,
      "outputs": [
        {
          "output_type": "execute_result",
          "data": {
            "text/plain": [
              "            ID  PERIODO  ESTU_VALORMATRICULAUNIVERSIDAD  \\\n",
              "0       904256    20212                               6   \n",
              "1       645256    20212                               4   \n",
              "2       308367    20203                               4   \n",
              "3       470353    20195                               5   \n",
              "4       989032    20212                               4   \n",
              "...        ...      ...                             ...   \n",
              "692495   25096    20195                               2   \n",
              "692496  754213    20212                               4   \n",
              "692497  504185    20183                               3   \n",
              "692498  986620    20195                               4   \n",
              "692499  933374    20195                               6   \n",
              "\n",
              "        ESTU_HORASSEMANATRABAJA  FAMI_ESTRATOVIVIENDA  FAMI_TIENEINTERNET  \\\n",
              "0                             1                     3                   1   \n",
              "1                             0                     3                   0   \n",
              "2                             4                     3                   1   \n",
              "3                             0                     4                   1   \n",
              "4                             3                     3                   1   \n",
              "...                         ...                   ...                 ...   \n",
              "692495                        2                     2                   1   \n",
              "692496                        4                     3                   1   \n",
              "692497                        1                     3                   1   \n",
              "692498                        1                     1                   0   \n",
              "692499                        4                     4                   1   \n",
              "\n",
              "        FAMI_TIENELAVADORA  FAMI_TIENEAUTOMOVIL  ESTU_PAGOMATRICULAPROPIO  \\\n",
              "0                        1                    1                         0   \n",
              "1                        1                    0                         0   \n",
              "2                        1                    0                         0   \n",
              "3                        1                    0                         0   \n",
              "4                        1                    1                         0   \n",
              "...                    ...                  ...                       ...   \n",
              "692495                   1                    0                         1   \n",
              "692496                   1                    0                         0   \n",
              "692497                   1                    0                         1   \n",
              "692498                   0                    0                         1   \n",
              "692499                   1                    1                         0   \n",
              "\n",
              "        FAMI_TIENECOMPUTADOR  ...  FAMI_EDUCACIONMADRE_Ninguno  \\\n",
              "0                          1  ...                            0   \n",
              "1                          1  ...                            0   \n",
              "2                          0  ...                            0   \n",
              "3                          1  ...                            0   \n",
              "4                          1  ...                            0   \n",
              "...                      ...  ...                          ...   \n",
              "692495                     1  ...                            0   \n",
              "692496                     1  ...                            0   \n",
              "692497                     1  ...                            0   \n",
              "692498                     1  ...                            0   \n",
              "692499                     1  ...                            0   \n",
              "\n",
              "        FAMI_EDUCACIONMADRE_No Aplica  FAMI_EDUCACIONMADRE_No sabe  \\\n",
              "0                                   0                            0   \n",
              "1                                   0                            0   \n",
              "2                                   0                            0   \n",
              "3                                   0                            0   \n",
              "4                                   0                            0   \n",
              "...                               ...                          ...   \n",
              "692495                              0                            0   \n",
              "692496                              0                            0   \n",
              "692497                              0                            0   \n",
              "692498                              0                            0   \n",
              "692499                              0                            0   \n",
              "\n",
              "        FAMI_EDUCACIONMADRE_Postgrado  FAMI_EDUCACIONMADRE_Primaria completa  \\\n",
              "0                                   1                                      0   \n",
              "1                                   0                                      0   \n",
              "2                                   0                                      0   \n",
              "3                                   0                                      0   \n",
              "4                                   0                                      1   \n",
              "...                               ...                                    ...   \n",
              "692495                              0                                      0   \n",
              "692496                              0                                      0   \n",
              "692497                              0                                      0   \n",
              "692498                              0                                      1   \n",
              "692499                              0                                      0   \n",
              "\n",
              "        FAMI_EDUCACIONMADRE_Primaria incompleta  \\\n",
              "0                                             0   \n",
              "1                                             0   \n",
              "2                                             0   \n",
              "3                                             0   \n",
              "4                                             0   \n",
              "...                                         ...   \n",
              "692495                                        0   \n",
              "692496                                        0   \n",
              "692497                                        0   \n",
              "692498                                        0   \n",
              "692499                                        0   \n",
              "\n",
              "        FAMI_EDUCACIONMADRE_Secundaria (Bachillerato) completa  \\\n",
              "0                                                       0        \n",
              "1                                                       0        \n",
              "2                                                       1        \n",
              "3                                                       1        \n",
              "4                                                       0        \n",
              "...                                                   ...        \n",
              "692495                                                  0        \n",
              "692496                                                  0        \n",
              "692497                                                  0        \n",
              "692498                                                  0        \n",
              "692499                                                  0        \n",
              "\n",
              "        FAMI_EDUCACIONMADRE_Secundaria (Bachillerato) incompleta  \\\n",
              "0                                                       0          \n",
              "1                                                       0          \n",
              "2                                                       0          \n",
              "3                                                       0          \n",
              "4                                                       0          \n",
              "...                                                   ...          \n",
              "692495                                                  1          \n",
              "692496                                                  1          \n",
              "692497                                                  1          \n",
              "692498                                                  0          \n",
              "692499                                                  0          \n",
              "\n",
              "        FAMI_EDUCACIONMADRE_Técnica o tecnológica completa  \\\n",
              "0                                                       0    \n",
              "1                                                       0    \n",
              "2                                                       0    \n",
              "3                                                       0    \n",
              "4                                                       0    \n",
              "...                                                   ...    \n",
              "692495                                                  0    \n",
              "692496                                                  0    \n",
              "692497                                                  0    \n",
              "692498                                                  0    \n",
              "692499                                                  1    \n",
              "\n",
              "        FAMI_EDUCACIONMADRE_Técnica o tecnológica incompleta  \n",
              "0                                                       0     \n",
              "1                                                       1     \n",
              "2                                                       0     \n",
              "3                                                       0     \n",
              "4                                                       0     \n",
              "...                                                   ...     \n",
              "692495                                                  0     \n",
              "692496                                                  0     \n",
              "692497                                                  0     \n",
              "692498                                                  0     \n",
              "692499                                                  0     \n",
              "\n",
              "[692500 rows x 157 columns]"
            ],
            "text/html": [
              "\n",
              "  <div id=\"df-22356167-2741-4ec4-b3f8-e495128eacff\" class=\"colab-df-container\">\n",
              "    <div>\n",
              "<style scoped>\n",
              "    .dataframe tbody tr th:only-of-type {\n",
              "        vertical-align: middle;\n",
              "    }\n",
              "\n",
              "    .dataframe tbody tr th {\n",
              "        vertical-align: top;\n",
              "    }\n",
              "\n",
              "    .dataframe thead th {\n",
              "        text-align: right;\n",
              "    }\n",
              "</style>\n",
              "<table border=\"1\" class=\"dataframe\">\n",
              "  <thead>\n",
              "    <tr style=\"text-align: right;\">\n",
              "      <th></th>\n",
              "      <th>ID</th>\n",
              "      <th>PERIODO</th>\n",
              "      <th>ESTU_VALORMATRICULAUNIVERSIDAD</th>\n",
              "      <th>ESTU_HORASSEMANATRABAJA</th>\n",
              "      <th>FAMI_ESTRATOVIVIENDA</th>\n",
              "      <th>FAMI_TIENEINTERNET</th>\n",
              "      <th>FAMI_TIENELAVADORA</th>\n",
              "      <th>FAMI_TIENEAUTOMOVIL</th>\n",
              "      <th>ESTU_PAGOMATRICULAPROPIO</th>\n",
              "      <th>FAMI_TIENECOMPUTADOR</th>\n",
              "      <th>...</th>\n",
              "      <th>FAMI_EDUCACIONMADRE_Ninguno</th>\n",
              "      <th>FAMI_EDUCACIONMADRE_No Aplica</th>\n",
              "      <th>FAMI_EDUCACIONMADRE_No sabe</th>\n",
              "      <th>FAMI_EDUCACIONMADRE_Postgrado</th>\n",
              "      <th>FAMI_EDUCACIONMADRE_Primaria completa</th>\n",
              "      <th>FAMI_EDUCACIONMADRE_Primaria incompleta</th>\n",
              "      <th>FAMI_EDUCACIONMADRE_Secundaria (Bachillerato) completa</th>\n",
              "      <th>FAMI_EDUCACIONMADRE_Secundaria (Bachillerato) incompleta</th>\n",
              "      <th>FAMI_EDUCACIONMADRE_Técnica o tecnológica completa</th>\n",
              "      <th>FAMI_EDUCACIONMADRE_Técnica o tecnológica incompleta</th>\n",
              "    </tr>\n",
              "  </thead>\n",
              "  <tbody>\n",
              "    <tr>\n",
              "      <th>0</th>\n",
              "      <td>904256</td>\n",
              "      <td>20212</td>\n",
              "      <td>6</td>\n",
              "      <td>1</td>\n",
              "      <td>3</td>\n",
              "      <td>1</td>\n",
              "      <td>1</td>\n",
              "      <td>1</td>\n",
              "      <td>0</td>\n",
              "      <td>1</td>\n",
              "      <td>...</td>\n",
              "      <td>0</td>\n",
              "      <td>0</td>\n",
              "      <td>0</td>\n",
              "      <td>1</td>\n",
              "      <td>0</td>\n",
              "      <td>0</td>\n",
              "      <td>0</td>\n",
              "      <td>0</td>\n",
              "      <td>0</td>\n",
              "      <td>0</td>\n",
              "    </tr>\n",
              "    <tr>\n",
              "      <th>1</th>\n",
              "      <td>645256</td>\n",
              "      <td>20212</td>\n",
              "      <td>4</td>\n",
              "      <td>0</td>\n",
              "      <td>3</td>\n",
              "      <td>0</td>\n",
              "      <td>1</td>\n",
              "      <td>0</td>\n",
              "      <td>0</td>\n",
              "      <td>1</td>\n",
              "      <td>...</td>\n",
              "      <td>0</td>\n",
              "      <td>0</td>\n",
              "      <td>0</td>\n",
              "      <td>0</td>\n",
              "      <td>0</td>\n",
              "      <td>0</td>\n",
              "      <td>0</td>\n",
              "      <td>0</td>\n",
              "      <td>0</td>\n",
              "      <td>1</td>\n",
              "    </tr>\n",
              "    <tr>\n",
              "      <th>2</th>\n",
              "      <td>308367</td>\n",
              "      <td>20203</td>\n",
              "      <td>4</td>\n",
              "      <td>4</td>\n",
              "      <td>3</td>\n",
              "      <td>1</td>\n",
              "      <td>1</td>\n",
              "      <td>0</td>\n",
              "      <td>0</td>\n",
              "      <td>0</td>\n",
              "      <td>...</td>\n",
              "      <td>0</td>\n",
              "      <td>0</td>\n",
              "      <td>0</td>\n",
              "      <td>0</td>\n",
              "      <td>0</td>\n",
              "      <td>0</td>\n",
              "      <td>1</td>\n",
              "      <td>0</td>\n",
              "      <td>0</td>\n",
              "      <td>0</td>\n",
              "    </tr>\n",
              "    <tr>\n",
              "      <th>3</th>\n",
              "      <td>470353</td>\n",
              "      <td>20195</td>\n",
              "      <td>5</td>\n",
              "      <td>0</td>\n",
              "      <td>4</td>\n",
              "      <td>1</td>\n",
              "      <td>1</td>\n",
              "      <td>0</td>\n",
              "      <td>0</td>\n",
              "      <td>1</td>\n",
              "      <td>...</td>\n",
              "      <td>0</td>\n",
              "      <td>0</td>\n",
              "      <td>0</td>\n",
              "      <td>0</td>\n",
              "      <td>0</td>\n",
              "      <td>0</td>\n",
              "      <td>1</td>\n",
              "      <td>0</td>\n",
              "      <td>0</td>\n",
              "      <td>0</td>\n",
              "    </tr>\n",
              "    <tr>\n",
              "      <th>4</th>\n",
              "      <td>989032</td>\n",
              "      <td>20212</td>\n",
              "      <td>4</td>\n",
              "      <td>3</td>\n",
              "      <td>3</td>\n",
              "      <td>1</td>\n",
              "      <td>1</td>\n",
              "      <td>1</td>\n",
              "      <td>0</td>\n",
              "      <td>1</td>\n",
              "      <td>...</td>\n",
              "      <td>0</td>\n",
              "      <td>0</td>\n",
              "      <td>0</td>\n",
              "      <td>0</td>\n",
              "      <td>1</td>\n",
              "      <td>0</td>\n",
              "      <td>0</td>\n",
              "      <td>0</td>\n",
              "      <td>0</td>\n",
              "      <td>0</td>\n",
              "    </tr>\n",
              "    <tr>\n",
              "      <th>...</th>\n",
              "      <td>...</td>\n",
              "      <td>...</td>\n",
              "      <td>...</td>\n",
              "      <td>...</td>\n",
              "      <td>...</td>\n",
              "      <td>...</td>\n",
              "      <td>...</td>\n",
              "      <td>...</td>\n",
              "      <td>...</td>\n",
              "      <td>...</td>\n",
              "      <td>...</td>\n",
              "      <td>...</td>\n",
              "      <td>...</td>\n",
              "      <td>...</td>\n",
              "      <td>...</td>\n",
              "      <td>...</td>\n",
              "      <td>...</td>\n",
              "      <td>...</td>\n",
              "      <td>...</td>\n",
              "      <td>...</td>\n",
              "      <td>...</td>\n",
              "    </tr>\n",
              "    <tr>\n",
              "      <th>692495</th>\n",
              "      <td>25096</td>\n",
              "      <td>20195</td>\n",
              "      <td>2</td>\n",
              "      <td>2</td>\n",
              "      <td>2</td>\n",
              "      <td>1</td>\n",
              "      <td>1</td>\n",
              "      <td>0</td>\n",
              "      <td>1</td>\n",
              "      <td>1</td>\n",
              "      <td>...</td>\n",
              "      <td>0</td>\n",
              "      <td>0</td>\n",
              "      <td>0</td>\n",
              "      <td>0</td>\n",
              "      <td>0</td>\n",
              "      <td>0</td>\n",
              "      <td>0</td>\n",
              "      <td>1</td>\n",
              "      <td>0</td>\n",
              "      <td>0</td>\n",
              "    </tr>\n",
              "    <tr>\n",
              "      <th>692496</th>\n",
              "      <td>754213</td>\n",
              "      <td>20212</td>\n",
              "      <td>4</td>\n",
              "      <td>4</td>\n",
              "      <td>3</td>\n",
              "      <td>1</td>\n",
              "      <td>1</td>\n",
              "      <td>0</td>\n",
              "      <td>0</td>\n",
              "      <td>1</td>\n",
              "      <td>...</td>\n",
              "      <td>0</td>\n",
              "      <td>0</td>\n",
              "      <td>0</td>\n",
              "      <td>0</td>\n",
              "      <td>0</td>\n",
              "      <td>0</td>\n",
              "      <td>0</td>\n",
              "      <td>1</td>\n",
              "      <td>0</td>\n",
              "      <td>0</td>\n",
              "    </tr>\n",
              "    <tr>\n",
              "      <th>692497</th>\n",
              "      <td>504185</td>\n",
              "      <td>20183</td>\n",
              "      <td>3</td>\n",
              "      <td>1</td>\n",
              "      <td>3</td>\n",
              "      <td>1</td>\n",
              "      <td>1</td>\n",
              "      <td>0</td>\n",
              "      <td>1</td>\n",
              "      <td>1</td>\n",
              "      <td>...</td>\n",
              "      <td>0</td>\n",
              "      <td>0</td>\n",
              "      <td>0</td>\n",
              "      <td>0</td>\n",
              "      <td>0</td>\n",
              "      <td>0</td>\n",
              "      <td>0</td>\n",
              "      <td>1</td>\n",
              "      <td>0</td>\n",
              "      <td>0</td>\n",
              "    </tr>\n",
              "    <tr>\n",
              "      <th>692498</th>\n",
              "      <td>986620</td>\n",
              "      <td>20195</td>\n",
              "      <td>4</td>\n",
              "      <td>1</td>\n",
              "      <td>1</td>\n",
              "      <td>0</td>\n",
              "      <td>0</td>\n",
              "      <td>0</td>\n",
              "      <td>1</td>\n",
              "      <td>1</td>\n",
              "      <td>...</td>\n",
              "      <td>0</td>\n",
              "      <td>0</td>\n",
              "      <td>0</td>\n",
              "      <td>0</td>\n",
              "      <td>1</td>\n",
              "      <td>0</td>\n",
              "      <td>0</td>\n",
              "      <td>0</td>\n",
              "      <td>0</td>\n",
              "      <td>0</td>\n",
              "    </tr>\n",
              "    <tr>\n",
              "      <th>692499</th>\n",
              "      <td>933374</td>\n",
              "      <td>20195</td>\n",
              "      <td>6</td>\n",
              "      <td>4</td>\n",
              "      <td>4</td>\n",
              "      <td>1</td>\n",
              "      <td>1</td>\n",
              "      <td>1</td>\n",
              "      <td>0</td>\n",
              "      <td>1</td>\n",
              "      <td>...</td>\n",
              "      <td>0</td>\n",
              "      <td>0</td>\n",
              "      <td>0</td>\n",
              "      <td>0</td>\n",
              "      <td>0</td>\n",
              "      <td>0</td>\n",
              "      <td>0</td>\n",
              "      <td>0</td>\n",
              "      <td>1</td>\n",
              "      <td>0</td>\n",
              "    </tr>\n",
              "  </tbody>\n",
              "</table>\n",
              "<p>692500 rows × 157 columns</p>\n",
              "</div>\n",
              "    <div class=\"colab-df-buttons\">\n",
              "\n",
              "  <div class=\"colab-df-container\">\n",
              "    <button class=\"colab-df-convert\" onclick=\"convertToInteractive('df-22356167-2741-4ec4-b3f8-e495128eacff')\"\n",
              "            title=\"Convert this dataframe to an interactive table.\"\n",
              "            style=\"display:none;\">\n",
              "\n",
              "  <svg xmlns=\"http://www.w3.org/2000/svg\" height=\"24px\" viewBox=\"0 -960 960 960\">\n",
              "    <path d=\"M120-120v-720h720v720H120Zm60-500h600v-160H180v160Zm220 220h160v-160H400v160Zm0 220h160v-160H400v160ZM180-400h160v-160H180v160Zm440 0h160v-160H620v160ZM180-180h160v-160H180v160Zm440 0h160v-160H620v160Z\"/>\n",
              "  </svg>\n",
              "    </button>\n",
              "\n",
              "  <style>\n",
              "    .colab-df-container {\n",
              "      display:flex;\n",
              "      gap: 12px;\n",
              "    }\n",
              "\n",
              "    .colab-df-convert {\n",
              "      background-color: #E8F0FE;\n",
              "      border: none;\n",
              "      border-radius: 50%;\n",
              "      cursor: pointer;\n",
              "      display: none;\n",
              "      fill: #1967D2;\n",
              "      height: 32px;\n",
              "      padding: 0 0 0 0;\n",
              "      width: 32px;\n",
              "    }\n",
              "\n",
              "    .colab-df-convert:hover {\n",
              "      background-color: #E2EBFA;\n",
              "      box-shadow: 0px 1px 2px rgba(60, 64, 67, 0.3), 0px 1px 3px 1px rgba(60, 64, 67, 0.15);\n",
              "      fill: #174EA6;\n",
              "    }\n",
              "\n",
              "    .colab-df-buttons div {\n",
              "      margin-bottom: 4px;\n",
              "    }\n",
              "\n",
              "    [theme=dark] .colab-df-convert {\n",
              "      background-color: #3B4455;\n",
              "      fill: #D2E3FC;\n",
              "    }\n",
              "\n",
              "    [theme=dark] .colab-df-convert:hover {\n",
              "      background-color: #434B5C;\n",
              "      box-shadow: 0px 1px 3px 1px rgba(0, 0, 0, 0.15);\n",
              "      filter: drop-shadow(0px 1px 2px rgba(0, 0, 0, 0.3));\n",
              "      fill: #FFFFFF;\n",
              "    }\n",
              "  </style>\n",
              "\n",
              "    <script>\n",
              "      const buttonEl =\n",
              "        document.querySelector('#df-22356167-2741-4ec4-b3f8-e495128eacff button.colab-df-convert');\n",
              "      buttonEl.style.display =\n",
              "        google.colab.kernel.accessAllowed ? 'block' : 'none';\n",
              "\n",
              "      async function convertToInteractive(key) {\n",
              "        const element = document.querySelector('#df-22356167-2741-4ec4-b3f8-e495128eacff');\n",
              "        const dataTable =\n",
              "          await google.colab.kernel.invokeFunction('convertToInteractive',\n",
              "                                                    [key], {});\n",
              "        if (!dataTable) return;\n",
              "\n",
              "        const docLinkHtml = 'Like what you see? Visit the ' +\n",
              "          '<a target=\"_blank\" href=https://colab.research.google.com/notebooks/data_table.ipynb>data table notebook</a>'\n",
              "          + ' to learn more about interactive tables.';\n",
              "        element.innerHTML = '';\n",
              "        dataTable['output_type'] = 'display_data';\n",
              "        await google.colab.output.renderOutput(dataTable, element);\n",
              "        const docLink = document.createElement('div');\n",
              "        docLink.innerHTML = docLinkHtml;\n",
              "        element.appendChild(docLink);\n",
              "      }\n",
              "    </script>\n",
              "  </div>\n",
              "\n",
              "\n",
              "    <div id=\"df-ea8a6e5a-2963-4e5d-8f1b-331f9eb8f3eb\">\n",
              "      <button class=\"colab-df-quickchart\" onclick=\"quickchart('df-ea8a6e5a-2963-4e5d-8f1b-331f9eb8f3eb')\"\n",
              "                title=\"Suggest charts\"\n",
              "                style=\"display:none;\">\n",
              "\n",
              "<svg xmlns=\"http://www.w3.org/2000/svg\" height=\"24px\"viewBox=\"0 0 24 24\"\n",
              "     width=\"24px\">\n",
              "    <g>\n",
              "        <path d=\"M19 3H5c-1.1 0-2 .9-2 2v14c0 1.1.9 2 2 2h14c1.1 0 2-.9 2-2V5c0-1.1-.9-2-2-2zM9 17H7v-7h2v7zm4 0h-2V7h2v10zm4 0h-2v-4h2v4z\"/>\n",
              "    </g>\n",
              "</svg>\n",
              "      </button>\n",
              "\n",
              "<style>\n",
              "  .colab-df-quickchart {\n",
              "      --bg-color: #E8F0FE;\n",
              "      --fill-color: #1967D2;\n",
              "      --hover-bg-color: #E2EBFA;\n",
              "      --hover-fill-color: #174EA6;\n",
              "      --disabled-fill-color: #AAA;\n",
              "      --disabled-bg-color: #DDD;\n",
              "  }\n",
              "\n",
              "  [theme=dark] .colab-df-quickchart {\n",
              "      --bg-color: #3B4455;\n",
              "      --fill-color: #D2E3FC;\n",
              "      --hover-bg-color: #434B5C;\n",
              "      --hover-fill-color: #FFFFFF;\n",
              "      --disabled-bg-color: #3B4455;\n",
              "      --disabled-fill-color: #666;\n",
              "  }\n",
              "\n",
              "  .colab-df-quickchart {\n",
              "    background-color: var(--bg-color);\n",
              "    border: none;\n",
              "    border-radius: 50%;\n",
              "    cursor: pointer;\n",
              "    display: none;\n",
              "    fill: var(--fill-color);\n",
              "    height: 32px;\n",
              "    padding: 0;\n",
              "    width: 32px;\n",
              "  }\n",
              "\n",
              "  .colab-df-quickchart:hover {\n",
              "    background-color: var(--hover-bg-color);\n",
              "    box-shadow: 0 1px 2px rgba(60, 64, 67, 0.3), 0 1px 3px 1px rgba(60, 64, 67, 0.15);\n",
              "    fill: var(--button-hover-fill-color);\n",
              "  }\n",
              "\n",
              "  .colab-df-quickchart-complete:disabled,\n",
              "  .colab-df-quickchart-complete:disabled:hover {\n",
              "    background-color: var(--disabled-bg-color);\n",
              "    fill: var(--disabled-fill-color);\n",
              "    box-shadow: none;\n",
              "  }\n",
              "\n",
              "  .colab-df-spinner {\n",
              "    border: 2px solid var(--fill-color);\n",
              "    border-color: transparent;\n",
              "    border-bottom-color: var(--fill-color);\n",
              "    animation:\n",
              "      spin 1s steps(1) infinite;\n",
              "  }\n",
              "\n",
              "  @keyframes spin {\n",
              "    0% {\n",
              "      border-color: transparent;\n",
              "      border-bottom-color: var(--fill-color);\n",
              "      border-left-color: var(--fill-color);\n",
              "    }\n",
              "    20% {\n",
              "      border-color: transparent;\n",
              "      border-left-color: var(--fill-color);\n",
              "      border-top-color: var(--fill-color);\n",
              "    }\n",
              "    30% {\n",
              "      border-color: transparent;\n",
              "      border-left-color: var(--fill-color);\n",
              "      border-top-color: var(--fill-color);\n",
              "      border-right-color: var(--fill-color);\n",
              "    }\n",
              "    40% {\n",
              "      border-color: transparent;\n",
              "      border-right-color: var(--fill-color);\n",
              "      border-top-color: var(--fill-color);\n",
              "    }\n",
              "    60% {\n",
              "      border-color: transparent;\n",
              "      border-right-color: var(--fill-color);\n",
              "    }\n",
              "    80% {\n",
              "      border-color: transparent;\n",
              "      border-right-color: var(--fill-color);\n",
              "      border-bottom-color: var(--fill-color);\n",
              "    }\n",
              "    90% {\n",
              "      border-color: transparent;\n",
              "      border-bottom-color: var(--fill-color);\n",
              "    }\n",
              "  }\n",
              "</style>\n",
              "\n",
              "      <script>\n",
              "        async function quickchart(key) {\n",
              "          const quickchartButtonEl =\n",
              "            document.querySelector('#' + key + ' button');\n",
              "          quickchartButtonEl.disabled = true;  // To prevent multiple clicks.\n",
              "          quickchartButtonEl.classList.add('colab-df-spinner');\n",
              "          try {\n",
              "            const charts = await google.colab.kernel.invokeFunction(\n",
              "                'suggestCharts', [key], {});\n",
              "          } catch (error) {\n",
              "            console.error('Error during call to suggestCharts:', error);\n",
              "          }\n",
              "          quickchartButtonEl.classList.remove('colab-df-spinner');\n",
              "          quickchartButtonEl.classList.add('colab-df-quickchart-complete');\n",
              "        }\n",
              "        (() => {\n",
              "          let quickchartButtonEl =\n",
              "            document.querySelector('#df-ea8a6e5a-2963-4e5d-8f1b-331f9eb8f3eb button');\n",
              "          quickchartButtonEl.style.display =\n",
              "            google.colab.kernel.accessAllowed ? 'block' : 'none';\n",
              "        })();\n",
              "      </script>\n",
              "    </div>\n",
              "\n",
              "  <div id=\"id_bf8bbed4-06ce-48e9-93fd-4433033ec7d1\">\n",
              "    <style>\n",
              "      .colab-df-generate {\n",
              "        background-color: #E8F0FE;\n",
              "        border: none;\n",
              "        border-radius: 50%;\n",
              "        cursor: pointer;\n",
              "        display: none;\n",
              "        fill: #1967D2;\n",
              "        height: 32px;\n",
              "        padding: 0 0 0 0;\n",
              "        width: 32px;\n",
              "      }\n",
              "\n",
              "      .colab-df-generate:hover {\n",
              "        background-color: #E2EBFA;\n",
              "        box-shadow: 0px 1px 2px rgba(60, 64, 67, 0.3), 0px 1px 3px 1px rgba(60, 64, 67, 0.15);\n",
              "        fill: #174EA6;\n",
              "      }\n",
              "\n",
              "      [theme=dark] .colab-df-generate {\n",
              "        background-color: #3B4455;\n",
              "        fill: #D2E3FC;\n",
              "      }\n",
              "\n",
              "      [theme=dark] .colab-df-generate:hover {\n",
              "        background-color: #434B5C;\n",
              "        box-shadow: 0px 1px 3px 1px rgba(0, 0, 0, 0.15);\n",
              "        filter: drop-shadow(0px 1px 2px rgba(0, 0, 0, 0.3));\n",
              "        fill: #FFFFFF;\n",
              "      }\n",
              "    </style>\n",
              "    <button class=\"colab-df-generate\" onclick=\"generateWithVariable('bdact')\"\n",
              "            title=\"Generate code using this dataframe.\"\n",
              "            style=\"display:none;\">\n",
              "\n",
              "  <svg xmlns=\"http://www.w3.org/2000/svg\" height=\"24px\"viewBox=\"0 0 24 24\"\n",
              "       width=\"24px\">\n",
              "    <path d=\"M7,19H8.4L18.45,9,17,7.55,7,17.6ZM5,21V16.75L18.45,3.32a2,2,0,0,1,2.83,0l1.4,1.43a1.91,1.91,0,0,1,.58,1.4,1.91,1.91,0,0,1-.58,1.4L9.25,21ZM18.45,9,17,7.55Zm-12,3A5.31,5.31,0,0,0,4.9,8.1,5.31,5.31,0,0,0,1,6.5,5.31,5.31,0,0,0,4.9,4.9,5.31,5.31,0,0,0,6.5,1,5.31,5.31,0,0,0,8.1,4.9,5.31,5.31,0,0,0,12,6.5,5.46,5.46,0,0,0,6.5,12Z\"/>\n",
              "  </svg>\n",
              "    </button>\n",
              "    <script>\n",
              "      (() => {\n",
              "      const buttonEl =\n",
              "        document.querySelector('#id_bf8bbed4-06ce-48e9-93fd-4433033ec7d1 button.colab-df-generate');\n",
              "      buttonEl.style.display =\n",
              "        google.colab.kernel.accessAllowed ? 'block' : 'none';\n",
              "\n",
              "      buttonEl.onclick = () => {\n",
              "        google.colab.notebook.generateWithVariable('bdact');\n",
              "      }\n",
              "      })();\n",
              "    </script>\n",
              "  </div>\n",
              "\n",
              "    </div>\n",
              "  </div>\n"
            ],
            "application/vnd.google.colaboratory.intrinsic+json": {
              "type": "dataframe",
              "variable_name": "bdact"
            }
          },
          "metadata": {},
          "execution_count": 47
        }
      ]
    },
    {
      "cell_type": "code",
      "source": [
        "bdact.head()"
      ],
      "metadata": {
        "colab": {
          "base_uri": "https://localhost:8080/",
          "height": 273
        },
        "id": "0B8g126EtfA_",
        "outputId": "261c724e-035f-4edf-aedf-7a64bcfc9afb"
      },
      "execution_count": null,
      "outputs": [
        {
          "output_type": "execute_result",
          "data": {
            "text/plain": [
              "       ID  PERIODO  ESTU_VALORMATRICULAUNIVERSIDAD  ESTU_HORASSEMANATRABAJA  \\\n",
              "0  904256    20212                               6                        1   \n",
              "1  645256    20212                               4                        0   \n",
              "2  308367    20203                               4                        4   \n",
              "3  470353    20195                               5                        0   \n",
              "4  989032    20212                               4                        3   \n",
              "\n",
              "   FAMI_ESTRATOVIVIENDA  FAMI_TIENEINTERNET  FAMI_TIENELAVADORA  \\\n",
              "0                     3                   1                   1   \n",
              "1                     3                   0                   1   \n",
              "2                     3                   1                   1   \n",
              "3                     4                   1                   1   \n",
              "4                     3                   1                   1   \n",
              "\n",
              "   FAMI_TIENEAUTOMOVIL  ESTU_PAGOMATRICULAPROPIO  FAMI_TIENECOMPUTADOR  ...  \\\n",
              "0                    1                         0                     1  ...   \n",
              "1                    0                         0                     1  ...   \n",
              "2                    0                         0                     0  ...   \n",
              "3                    0                         0                     1  ...   \n",
              "4                    1                         0                     1  ...   \n",
              "\n",
              "   FAMI_EDUCACIONMADRE_Ninguno  FAMI_EDUCACIONMADRE_No Aplica  \\\n",
              "0                            0                              0   \n",
              "1                            0                              0   \n",
              "2                            0                              0   \n",
              "3                            0                              0   \n",
              "4                            0                              0   \n",
              "\n",
              "   FAMI_EDUCACIONMADRE_No sabe  FAMI_EDUCACIONMADRE_Postgrado  \\\n",
              "0                            0                              1   \n",
              "1                            0                              0   \n",
              "2                            0                              0   \n",
              "3                            0                              0   \n",
              "4                            0                              0   \n",
              "\n",
              "   FAMI_EDUCACIONMADRE_Primaria completa  \\\n",
              "0                                      0   \n",
              "1                                      0   \n",
              "2                                      0   \n",
              "3                                      0   \n",
              "4                                      1   \n",
              "\n",
              "   FAMI_EDUCACIONMADRE_Primaria incompleta  \\\n",
              "0                                        0   \n",
              "1                                        0   \n",
              "2                                        0   \n",
              "3                                        0   \n",
              "4                                        0   \n",
              "\n",
              "   FAMI_EDUCACIONMADRE_Secundaria (Bachillerato) completa  \\\n",
              "0                                                  0        \n",
              "1                                                  0        \n",
              "2                                                  1        \n",
              "3                                                  1        \n",
              "4                                                  0        \n",
              "\n",
              "   FAMI_EDUCACIONMADRE_Secundaria (Bachillerato) incompleta  \\\n",
              "0                                                  0          \n",
              "1                                                  0          \n",
              "2                                                  0          \n",
              "3                                                  0          \n",
              "4                                                  0          \n",
              "\n",
              "   FAMI_EDUCACIONMADRE_Técnica o tecnológica completa  \\\n",
              "0                                                  0    \n",
              "1                                                  0    \n",
              "2                                                  0    \n",
              "3                                                  0    \n",
              "4                                                  0    \n",
              "\n",
              "   FAMI_EDUCACIONMADRE_Técnica o tecnológica incompleta  \n",
              "0                                                  0     \n",
              "1                                                  1     \n",
              "2                                                  0     \n",
              "3                                                  0     \n",
              "4                                                  0     \n",
              "\n",
              "[5 rows x 157 columns]"
            ],
            "text/html": [
              "\n",
              "  <div id=\"df-0821e218-68ab-46c7-be94-d8e2be8b797d\" class=\"colab-df-container\">\n",
              "    <div>\n",
              "<style scoped>\n",
              "    .dataframe tbody tr th:only-of-type {\n",
              "        vertical-align: middle;\n",
              "    }\n",
              "\n",
              "    .dataframe tbody tr th {\n",
              "        vertical-align: top;\n",
              "    }\n",
              "\n",
              "    .dataframe thead th {\n",
              "        text-align: right;\n",
              "    }\n",
              "</style>\n",
              "<table border=\"1\" class=\"dataframe\">\n",
              "  <thead>\n",
              "    <tr style=\"text-align: right;\">\n",
              "      <th></th>\n",
              "      <th>ID</th>\n",
              "      <th>PERIODO</th>\n",
              "      <th>ESTU_VALORMATRICULAUNIVERSIDAD</th>\n",
              "      <th>ESTU_HORASSEMANATRABAJA</th>\n",
              "      <th>FAMI_ESTRATOVIVIENDA</th>\n",
              "      <th>FAMI_TIENEINTERNET</th>\n",
              "      <th>FAMI_TIENELAVADORA</th>\n",
              "      <th>FAMI_TIENEAUTOMOVIL</th>\n",
              "      <th>ESTU_PAGOMATRICULAPROPIO</th>\n",
              "      <th>FAMI_TIENECOMPUTADOR</th>\n",
              "      <th>...</th>\n",
              "      <th>FAMI_EDUCACIONMADRE_Ninguno</th>\n",
              "      <th>FAMI_EDUCACIONMADRE_No Aplica</th>\n",
              "      <th>FAMI_EDUCACIONMADRE_No sabe</th>\n",
              "      <th>FAMI_EDUCACIONMADRE_Postgrado</th>\n",
              "      <th>FAMI_EDUCACIONMADRE_Primaria completa</th>\n",
              "      <th>FAMI_EDUCACIONMADRE_Primaria incompleta</th>\n",
              "      <th>FAMI_EDUCACIONMADRE_Secundaria (Bachillerato) completa</th>\n",
              "      <th>FAMI_EDUCACIONMADRE_Secundaria (Bachillerato) incompleta</th>\n",
              "      <th>FAMI_EDUCACIONMADRE_Técnica o tecnológica completa</th>\n",
              "      <th>FAMI_EDUCACIONMADRE_Técnica o tecnológica incompleta</th>\n",
              "    </tr>\n",
              "  </thead>\n",
              "  <tbody>\n",
              "    <tr>\n",
              "      <th>0</th>\n",
              "      <td>904256</td>\n",
              "      <td>20212</td>\n",
              "      <td>6</td>\n",
              "      <td>1</td>\n",
              "      <td>3</td>\n",
              "      <td>1</td>\n",
              "      <td>1</td>\n",
              "      <td>1</td>\n",
              "      <td>0</td>\n",
              "      <td>1</td>\n",
              "      <td>...</td>\n",
              "      <td>0</td>\n",
              "      <td>0</td>\n",
              "      <td>0</td>\n",
              "      <td>1</td>\n",
              "      <td>0</td>\n",
              "      <td>0</td>\n",
              "      <td>0</td>\n",
              "      <td>0</td>\n",
              "      <td>0</td>\n",
              "      <td>0</td>\n",
              "    </tr>\n",
              "    <tr>\n",
              "      <th>1</th>\n",
              "      <td>645256</td>\n",
              "      <td>20212</td>\n",
              "      <td>4</td>\n",
              "      <td>0</td>\n",
              "      <td>3</td>\n",
              "      <td>0</td>\n",
              "      <td>1</td>\n",
              "      <td>0</td>\n",
              "      <td>0</td>\n",
              "      <td>1</td>\n",
              "      <td>...</td>\n",
              "      <td>0</td>\n",
              "      <td>0</td>\n",
              "      <td>0</td>\n",
              "      <td>0</td>\n",
              "      <td>0</td>\n",
              "      <td>0</td>\n",
              "      <td>0</td>\n",
              "      <td>0</td>\n",
              "      <td>0</td>\n",
              "      <td>1</td>\n",
              "    </tr>\n",
              "    <tr>\n",
              "      <th>2</th>\n",
              "      <td>308367</td>\n",
              "      <td>20203</td>\n",
              "      <td>4</td>\n",
              "      <td>4</td>\n",
              "      <td>3</td>\n",
              "      <td>1</td>\n",
              "      <td>1</td>\n",
              "      <td>0</td>\n",
              "      <td>0</td>\n",
              "      <td>0</td>\n",
              "      <td>...</td>\n",
              "      <td>0</td>\n",
              "      <td>0</td>\n",
              "      <td>0</td>\n",
              "      <td>0</td>\n",
              "      <td>0</td>\n",
              "      <td>0</td>\n",
              "      <td>1</td>\n",
              "      <td>0</td>\n",
              "      <td>0</td>\n",
              "      <td>0</td>\n",
              "    </tr>\n",
              "    <tr>\n",
              "      <th>3</th>\n",
              "      <td>470353</td>\n",
              "      <td>20195</td>\n",
              "      <td>5</td>\n",
              "      <td>0</td>\n",
              "      <td>4</td>\n",
              "      <td>1</td>\n",
              "      <td>1</td>\n",
              "      <td>0</td>\n",
              "      <td>0</td>\n",
              "      <td>1</td>\n",
              "      <td>...</td>\n",
              "      <td>0</td>\n",
              "      <td>0</td>\n",
              "      <td>0</td>\n",
              "      <td>0</td>\n",
              "      <td>0</td>\n",
              "      <td>0</td>\n",
              "      <td>1</td>\n",
              "      <td>0</td>\n",
              "      <td>0</td>\n",
              "      <td>0</td>\n",
              "    </tr>\n",
              "    <tr>\n",
              "      <th>4</th>\n",
              "      <td>989032</td>\n",
              "      <td>20212</td>\n",
              "      <td>4</td>\n",
              "      <td>3</td>\n",
              "      <td>3</td>\n",
              "      <td>1</td>\n",
              "      <td>1</td>\n",
              "      <td>1</td>\n",
              "      <td>0</td>\n",
              "      <td>1</td>\n",
              "      <td>...</td>\n",
              "      <td>0</td>\n",
              "      <td>0</td>\n",
              "      <td>0</td>\n",
              "      <td>0</td>\n",
              "      <td>1</td>\n",
              "      <td>0</td>\n",
              "      <td>0</td>\n",
              "      <td>0</td>\n",
              "      <td>0</td>\n",
              "      <td>0</td>\n",
              "    </tr>\n",
              "  </tbody>\n",
              "</table>\n",
              "<p>5 rows × 157 columns</p>\n",
              "</div>\n",
              "    <div class=\"colab-df-buttons\">\n",
              "\n",
              "  <div class=\"colab-df-container\">\n",
              "    <button class=\"colab-df-convert\" onclick=\"convertToInteractive('df-0821e218-68ab-46c7-be94-d8e2be8b797d')\"\n",
              "            title=\"Convert this dataframe to an interactive table.\"\n",
              "            style=\"display:none;\">\n",
              "\n",
              "  <svg xmlns=\"http://www.w3.org/2000/svg\" height=\"24px\" viewBox=\"0 -960 960 960\">\n",
              "    <path d=\"M120-120v-720h720v720H120Zm60-500h600v-160H180v160Zm220 220h160v-160H400v160Zm0 220h160v-160H400v160ZM180-400h160v-160H180v160Zm440 0h160v-160H620v160ZM180-180h160v-160H180v160Zm440 0h160v-160H620v160Z\"/>\n",
              "  </svg>\n",
              "    </button>\n",
              "\n",
              "  <style>\n",
              "    .colab-df-container {\n",
              "      display:flex;\n",
              "      gap: 12px;\n",
              "    }\n",
              "\n",
              "    .colab-df-convert {\n",
              "      background-color: #E8F0FE;\n",
              "      border: none;\n",
              "      border-radius: 50%;\n",
              "      cursor: pointer;\n",
              "      display: none;\n",
              "      fill: #1967D2;\n",
              "      height: 32px;\n",
              "      padding: 0 0 0 0;\n",
              "      width: 32px;\n",
              "    }\n",
              "\n",
              "    .colab-df-convert:hover {\n",
              "      background-color: #E2EBFA;\n",
              "      box-shadow: 0px 1px 2px rgba(60, 64, 67, 0.3), 0px 1px 3px 1px rgba(60, 64, 67, 0.15);\n",
              "      fill: #174EA6;\n",
              "    }\n",
              "\n",
              "    .colab-df-buttons div {\n",
              "      margin-bottom: 4px;\n",
              "    }\n",
              "\n",
              "    [theme=dark] .colab-df-convert {\n",
              "      background-color: #3B4455;\n",
              "      fill: #D2E3FC;\n",
              "    }\n",
              "\n",
              "    [theme=dark] .colab-df-convert:hover {\n",
              "      background-color: #434B5C;\n",
              "      box-shadow: 0px 1px 3px 1px rgba(0, 0, 0, 0.15);\n",
              "      filter: drop-shadow(0px 1px 2px rgba(0, 0, 0, 0.3));\n",
              "      fill: #FFFFFF;\n",
              "    }\n",
              "  </style>\n",
              "\n",
              "    <script>\n",
              "      const buttonEl =\n",
              "        document.querySelector('#df-0821e218-68ab-46c7-be94-d8e2be8b797d button.colab-df-convert');\n",
              "      buttonEl.style.display =\n",
              "        google.colab.kernel.accessAllowed ? 'block' : 'none';\n",
              "\n",
              "      async function convertToInteractive(key) {\n",
              "        const element = document.querySelector('#df-0821e218-68ab-46c7-be94-d8e2be8b797d');\n",
              "        const dataTable =\n",
              "          await google.colab.kernel.invokeFunction('convertToInteractive',\n",
              "                                                    [key], {});\n",
              "        if (!dataTable) return;\n",
              "\n",
              "        const docLinkHtml = 'Like what you see? Visit the ' +\n",
              "          '<a target=\"_blank\" href=https://colab.research.google.com/notebooks/data_table.ipynb>data table notebook</a>'\n",
              "          + ' to learn more about interactive tables.';\n",
              "        element.innerHTML = '';\n",
              "        dataTable['output_type'] = 'display_data';\n",
              "        await google.colab.output.renderOutput(dataTable, element);\n",
              "        const docLink = document.createElement('div');\n",
              "        docLink.innerHTML = docLinkHtml;\n",
              "        element.appendChild(docLink);\n",
              "      }\n",
              "    </script>\n",
              "  </div>\n",
              "\n",
              "\n",
              "    <div id=\"df-4336af73-c942-49c5-9661-b46eeb91aa9d\">\n",
              "      <button class=\"colab-df-quickchart\" onclick=\"quickchart('df-4336af73-c942-49c5-9661-b46eeb91aa9d')\"\n",
              "                title=\"Suggest charts\"\n",
              "                style=\"display:none;\">\n",
              "\n",
              "<svg xmlns=\"http://www.w3.org/2000/svg\" height=\"24px\"viewBox=\"0 0 24 24\"\n",
              "     width=\"24px\">\n",
              "    <g>\n",
              "        <path d=\"M19 3H5c-1.1 0-2 .9-2 2v14c0 1.1.9 2 2 2h14c1.1 0 2-.9 2-2V5c0-1.1-.9-2-2-2zM9 17H7v-7h2v7zm4 0h-2V7h2v10zm4 0h-2v-4h2v4z\"/>\n",
              "    </g>\n",
              "</svg>\n",
              "      </button>\n",
              "\n",
              "<style>\n",
              "  .colab-df-quickchart {\n",
              "      --bg-color: #E8F0FE;\n",
              "      --fill-color: #1967D2;\n",
              "      --hover-bg-color: #E2EBFA;\n",
              "      --hover-fill-color: #174EA6;\n",
              "      --disabled-fill-color: #AAA;\n",
              "      --disabled-bg-color: #DDD;\n",
              "  }\n",
              "\n",
              "  [theme=dark] .colab-df-quickchart {\n",
              "      --bg-color: #3B4455;\n",
              "      --fill-color: #D2E3FC;\n",
              "      --hover-bg-color: #434B5C;\n",
              "      --hover-fill-color: #FFFFFF;\n",
              "      --disabled-bg-color: #3B4455;\n",
              "      --disabled-fill-color: #666;\n",
              "  }\n",
              "\n",
              "  .colab-df-quickchart {\n",
              "    background-color: var(--bg-color);\n",
              "    border: none;\n",
              "    border-radius: 50%;\n",
              "    cursor: pointer;\n",
              "    display: none;\n",
              "    fill: var(--fill-color);\n",
              "    height: 32px;\n",
              "    padding: 0;\n",
              "    width: 32px;\n",
              "  }\n",
              "\n",
              "  .colab-df-quickchart:hover {\n",
              "    background-color: var(--hover-bg-color);\n",
              "    box-shadow: 0 1px 2px rgba(60, 64, 67, 0.3), 0 1px 3px 1px rgba(60, 64, 67, 0.15);\n",
              "    fill: var(--button-hover-fill-color);\n",
              "  }\n",
              "\n",
              "  .colab-df-quickchart-complete:disabled,\n",
              "  .colab-df-quickchart-complete:disabled:hover {\n",
              "    background-color: var(--disabled-bg-color);\n",
              "    fill: var(--disabled-fill-color);\n",
              "    box-shadow: none;\n",
              "  }\n",
              "\n",
              "  .colab-df-spinner {\n",
              "    border: 2px solid var(--fill-color);\n",
              "    border-color: transparent;\n",
              "    border-bottom-color: var(--fill-color);\n",
              "    animation:\n",
              "      spin 1s steps(1) infinite;\n",
              "  }\n",
              "\n",
              "  @keyframes spin {\n",
              "    0% {\n",
              "      border-color: transparent;\n",
              "      border-bottom-color: var(--fill-color);\n",
              "      border-left-color: var(--fill-color);\n",
              "    }\n",
              "    20% {\n",
              "      border-color: transparent;\n",
              "      border-left-color: var(--fill-color);\n",
              "      border-top-color: var(--fill-color);\n",
              "    }\n",
              "    30% {\n",
              "      border-color: transparent;\n",
              "      border-left-color: var(--fill-color);\n",
              "      border-top-color: var(--fill-color);\n",
              "      border-right-color: var(--fill-color);\n",
              "    }\n",
              "    40% {\n",
              "      border-color: transparent;\n",
              "      border-right-color: var(--fill-color);\n",
              "      border-top-color: var(--fill-color);\n",
              "    }\n",
              "    60% {\n",
              "      border-color: transparent;\n",
              "      border-right-color: var(--fill-color);\n",
              "    }\n",
              "    80% {\n",
              "      border-color: transparent;\n",
              "      border-right-color: var(--fill-color);\n",
              "      border-bottom-color: var(--fill-color);\n",
              "    }\n",
              "    90% {\n",
              "      border-color: transparent;\n",
              "      border-bottom-color: var(--fill-color);\n",
              "    }\n",
              "  }\n",
              "</style>\n",
              "\n",
              "      <script>\n",
              "        async function quickchart(key) {\n",
              "          const quickchartButtonEl =\n",
              "            document.querySelector('#' + key + ' button');\n",
              "          quickchartButtonEl.disabled = true;  // To prevent multiple clicks.\n",
              "          quickchartButtonEl.classList.add('colab-df-spinner');\n",
              "          try {\n",
              "            const charts = await google.colab.kernel.invokeFunction(\n",
              "                'suggestCharts', [key], {});\n",
              "          } catch (error) {\n",
              "            console.error('Error during call to suggestCharts:', error);\n",
              "          }\n",
              "          quickchartButtonEl.classList.remove('colab-df-spinner');\n",
              "          quickchartButtonEl.classList.add('colab-df-quickchart-complete');\n",
              "        }\n",
              "        (() => {\n",
              "          let quickchartButtonEl =\n",
              "            document.querySelector('#df-4336af73-c942-49c5-9661-b46eeb91aa9d button');\n",
              "          quickchartButtonEl.style.display =\n",
              "            google.colab.kernel.accessAllowed ? 'block' : 'none';\n",
              "        })();\n",
              "      </script>\n",
              "    </div>\n",
              "\n",
              "    </div>\n",
              "  </div>\n"
            ],
            "application/vnd.google.colaboratory.intrinsic+json": {
              "type": "dataframe",
              "variable_name": "bdact"
            }
          },
          "metadata": {},
          "execution_count": 48
        }
      ]
    },
    {
      "cell_type": "code",
      "source": [
        "bdact.shape"
      ],
      "metadata": {
        "colab": {
          "base_uri": "https://localhost:8080/"
        },
        "id": "Ey47hSjot5qj",
        "outputId": "f803ff5e-afe0-473a-91db-e9903d0f7346"
      },
      "execution_count": null,
      "outputs": [
        {
          "output_type": "execute_result",
          "data": {
            "text/plain": [
              "(692500, 157)"
            ]
          },
          "metadata": {},
          "execution_count": 49
        }
      ]
    }
  ],
  "metadata": {
    "colab": {
      "provenance": [],
      "include_colab_link": true
    },
    "kernelspec": {
      "display_name": "Python 3",
      "name": "python3"
    },
    "language_info": {
      "name": "python"
    }
  },
  "nbformat": 4,
  "nbformat_minor": 0
}